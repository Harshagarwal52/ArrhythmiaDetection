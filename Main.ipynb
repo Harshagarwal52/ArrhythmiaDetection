{
 "cells": [
  {
   "cell_type": "markdown",
   "metadata": {},
   "source": [
    "<center><h1 class=\"list-group-item list-group-item-success\">Arrhythmia Detection</h1></center>"
   ]
  },
  {
   "cell_type": "markdown",
   "metadata": {},
   "source": [
    "## Loading modules"
   ]
  },
  {
   "cell_type": "code",
   "execution_count": 29,
   "metadata": {},
   "outputs": [],
   "source": [
    "import pandas as pd\n",
    "import numpy as np\n",
    "import wfdb\n",
    "from sklearn.model_selection import train_test_split\n",
    "from sklearn.preprocessing import StandardScaler\n",
    "import matplotlib.pyplot as plt\n",
    "from pathlib import Path\n",
    "import pickle"
   ]
  },
  {
   "cell_type": "code",
   "execution_count": 2,
   "metadata": {},
   "outputs": [],
   "source": [
    "from keras.models import Sequential\n",
    "from keras.layers import Conv1D, LSTM, Dense, Dropout, TimeDistributed\n",
    "# from keras.optimizers import Adam\n",
    "from tensorflow.keras.optimizers import Adam # - Works"
   ]
  },
  {
   "cell_type": "code",
   "execution_count": 3,
   "metadata": {},
   "outputs": [],
   "source": [
    "import matplotlib.pyplot as plt"
   ]
  },
  {
   "cell_type": "markdown",
   "metadata": {},
   "source": [
    "## Download Dataset"
   ]
  },
  {
   "cell_type": "code",
   "execution_count": 4,
   "metadata": {},
   "outputs": [],
   "source": [
    "import wget\n",
    "import zipfile\n",
    "\n",
    "database_filename = \"mit-bih-arrhythmia-database-1.0.0.zip\"\n",
    "database_path = Path(database_filename)\n",
    "\n",
    "if not database_path.exists():\n",
    "    url = f'https://storage.googleapis.com/mitdb-1.0.0.physionet.org/{database_filename}'\n",
    "    wget.download(url)\n",
    "    with zipfile.ZipFile(database_filename, 'r') as zip_ref:\n",
    "        zip_ref.extractall(\".\")"
   ]
  },
  {
   "cell_type": "markdown",
   "metadata": {},
   "source": [
    "## Loading data"
   ]
  },
  {
   "cell_type": "markdown",
   "metadata": {},
   "source": [
    "Loading list of records available, from dataset available [here](https://physionet.org/content/mitdb/1.0.0/)"
   ]
  },
  {
   "cell_type": "code",
   "execution_count": 5,
   "metadata": {},
   "outputs": [],
   "source": [
    "records = np.loadtxt(\"mit-bih-arrhythmia-database-1.0.0/RECORDS\", dtype=int)"
   ]
  },
  {
   "cell_type": "markdown",
   "metadata": {},
   "source": [
    "Defining invalid beats as well as abnormal beats, according to [Physiobank](https://archive.physionet.org/physiobank/annotations.shtml)"
   ]
  },
  {
   "cell_type": "code",
   "execution_count": 6,
   "metadata": {},
   "outputs": [],
   "source": [
    "invalid_beat = [\n",
    "    \"[\", \"!\", \"]\", \"x\", \"(\", \")\", \"p\", \"t\", \n",
    "    \"u\", \"`\", \"'\", \"^\", \"|\", \"~\", \"+\", \"s\", \n",
    "    \"T\", \"*\", \"D\", \"=\", '\"', \"@\"\n",
    "]\n",
    "\n",
    "abnormal_beats = [\n",
    "    \"L\", \"R\", \"B\", \"A\", \"a\", \"J\", \"S\", \"V\", \n",
    "    \"r\", \"F\", \"e\", \"j\", \"n\", \"E\", \"/\", \"f\", \"Q\", \"?\"\n",
    "]"
   ]
  },
  {
   "cell_type": "markdown",
   "metadata": {},
   "source": [
    "## Processing dataset"
   ]
  },
  {
   "cell_type": "markdown",
   "metadata": {},
   "source": [
    "This function classify a beat according to its symbol and the list provided above."
   ]
  },
  {
   "cell_type": "code",
   "execution_count": 7,
   "metadata": {},
   "outputs": [],
   "source": [
    "def classify_beat(symbol):\n",
    "    if symbol in abnormal_beats:\n",
    "        return 1\n",
    "    elif symbol == \"N\" or symbol == \".\":\n",
    "        return 0    "
   ]
  },
  {
   "cell_type": "markdown",
   "metadata": {},
   "source": [
    "Given a signal, the beat location, and the window to be used as a sequence, this function gets the sequence. It will return an empty array in case of an invalid beat or empty sequence."
   ]
  },
  {
   "cell_type": "code",
   "execution_count": 8,
   "metadata": {},
   "outputs": [],
   "source": [
    "def get_sequence(signal, beat_loc, window_sec, fs):\n",
    "    window_one_side = window_sec * fs\n",
    "    beat_start = beat_loc - window_one_side\n",
    "    beat_end = beat_loc + window_one_side\n",
    "    if beat_end < signal.shape[0]:\n",
    "        sequence = signal[beat_start:beat_end, 0]\n",
    "        return sequence.reshape(1, -1, 1)\n",
    "    else:\n",
    "        return np.array([])"
   ]
  },
  {
   "cell_type": "markdown",
   "metadata": {},
   "source": [
    "The code below will build a list of labels and sequences as well as map the sequences for each patient. The percentage calculated represents the ratio of abnormal beats in each patient data."
   ]
  },
  {
   "cell_type": "code",
   "execution_count": 9,
   "metadata": {},
   "outputs": [],
   "source": [
    "all_sequences = []\n",
    "all_labels = []\n",
    "window_sec = 3\n",
    "subject_map = []\n",
    "for subject in records:\n",
    "    record = wfdb.rdrecord(f'mit-bih-arrhythmia-database-1.0.0/{subject}')\n",
    "    annotation = wfdb.rdann(f'mit-bih-arrhythmia-database-1.0.0/{subject}', 'atr')\n",
    "    atr_symbol = annotation.symbol\n",
    "    atr_sample = annotation.sample\n",
    "    fs = record.fs\n",
    "    scaler = StandardScaler()\n",
    "    signal = scaler.fit_transform(record.p_signal)\n",
    "    subject_labels = []\n",
    "    for i, i_sample in enumerate(atr_sample):\n",
    "        label = classify_beat(atr_symbol[i])\n",
    "        sequence = get_sequence(signal, i_sample, window_sec, fs)\n",
    "        if label is not None and sequence.size > 0:\n",
    "            all_sequences.append(sequence)\n",
    "            subject_labels.append(label)\n",
    "\n",
    "    normal_percentage = sum(subject_labels) / len(subject_labels)\n",
    "    subject_map.append({\n",
    "        \"subject\": subject,\n",
    "        \"percentage\": normal_percentage,\n",
    "        \"num_seq\": len(subject_labels),\n",
    "        \"start\": len(all_labels),\n",
    "        \"end\": len(all_labels)+len(subject_labels)\n",
    "    })\n",
    "    all_labels.extend(subject_labels)"
   ]
  },
  {
   "cell_type": "markdown",
   "metadata": {},
   "source": [
    "Creating bins to be used to stratify the train and validation split. "
   ]
  },
  {
   "cell_type": "code",
   "execution_count": 10,
   "metadata": {},
   "outputs": [],
   "source": [
    "subject_map = pd.DataFrame(subject_map)"
   ]
  },
  {
   "cell_type": "markdown",
   "metadata": {},
   "source": [
    "The code presented will create class in each patient is segmented."
   ]
  },
  {
   "cell_type": "code",
   "execution_count": 11,
   "metadata": {},
   "outputs": [],
   "source": [
    "bins = [0, 0.2, 0.6, 1.0]\n",
    "subject_map[\"bin\"] = pd.cut(subject_map['percentage'], bins=bins, labels=False, include_lowest=True)"
   ]
  },
  {
   "cell_type": "markdown",
   "metadata": {},
   "source": [
    "Now, the dataset is split into train and validation, stratifying by the bin defined above."
   ]
  },
  {
   "cell_type": "code",
   "execution_count": 12,
   "metadata": {},
   "outputs": [],
   "source": [
    "train, validation = train_test_split(subject_map, test_size=0.25, stratify=subject_map[\"bin\"], random_state=42)"
   ]
  },
  {
   "cell_type": "markdown",
   "metadata": {},
   "source": [
    "This function build a dataset based on the map for each split."
   ]
  },
  {
   "cell_type": "code",
   "execution_count": 13,
   "metadata": {},
   "outputs": [],
   "source": [
    "def build_dataset(df, all_sequences, all_labels):\n",
    "    sequences = []\n",
    "    labels = []\n",
    "    for i, row in df.iterrows():\n",
    "        start = int(row[\"start\"])\n",
    "        end = int(row[\"end\"])\n",
    "        sequences.extend(all_sequences[start:end])\n",
    "        labels.extend(all_labels[start:end])\n",
    "        \n",
    "    return np.vstack(sequences), np.vstack(labels)"
   ]
  },
  {
   "cell_type": "code",
   "execution_count": 14,
   "metadata": {},
   "outputs": [],
   "source": [
    "X_train, y_train = build_dataset(train, all_sequences, all_labels)\n",
    "X_val, y_val = build_dataset(validation, all_sequences, all_labels)"
   ]
  },
  {
   "cell_type": "code",
   "execution_count": 15,
   "metadata": {},
   "outputs": [
    {
     "data": {
      "text/plain": [
       "((82873, 2160, 1), (82873, 1))"
      ]
     },
     "execution_count": 15,
     "metadata": {},
     "output_type": "execute_result"
    }
   ],
   "source": [
    "X_train.shape, y_train.shape"
   ]
  },
  {
   "cell_type": "markdown",
   "metadata": {},
   "source": [
    "## Training the model"
   ]
  },
  {
   "cell_type": "markdown",
   "metadata": {},
   "source": [
    "### CNN model"
   ]
  },
  {
   "cell_type": "code",
   "execution_count": 16,
   "metadata": {},
   "outputs": [
    {
     "name": "stdout",
     "output_type": "stream",
     "text": [
      "Model: \"sequential\"\n",
      "_________________________________________________________________\n",
      " Layer (type)                Output Shape              Param #   \n",
      "=================================================================\n",
      " conv1d (Conv1D)             (None, 2160, 8)           40        \n",
      "                                                                 \n",
      " flatten (Flatten)           (None, 17280)             0         \n",
      "                                                                 \n",
      " dropout (Dropout)           (None, 17280)             0         \n",
      "                                                                 \n",
      " output (Dense)              (None, 1)                 17281     \n",
      "                                                                 \n",
      "=================================================================\n",
      "Total params: 17,321\n",
      "Trainable params: 17,321\n",
      "Non-trainable params: 0\n",
      "_________________________________________________________________\n"
     ]
    }
   ],
   "source": [
    "from keras.models import Sequential\n",
    "from keras.layers import Conv1D, Flatten, Dense, Dropout\n",
    "\n",
    "sequence_size = X_train.shape[1]\n",
    "n_features = 1\n",
    "\n",
    "cnn_model = Sequential([\n",
    "    Conv1D(\n",
    "        filters=8,\n",
    "        kernel_size=4,\n",
    "        strides=1,\n",
    "        input_shape=(sequence_size, n_features),\n",
    "        padding=\"same\",\n",
    "        activation=\"relu\"\n",
    "    ),\n",
    "    Flatten(),\n",
    "    Dropout(0.5),\n",
    "    Dense(\n",
    "        1,\n",
    "        activation=\"sigmoid\",\n",
    "        name=\"output\",\n",
    "    )\n",
    "])\n",
    "\n",
    "optimizer = Adam(learning_rate=0.001)\n",
    "# Compiling the model\n",
    "cnn_model.compile(\n",
    "    optimizer=optimizer,\n",
    "    loss=\"binary_crossentropy\",\n",
    "    metrics=[\"accuracy\"]\n",
    ")\n",
    "cnn_model.summary()"
   ]
  },
  {
   "cell_type": "code",
   "execution_count": 17,
   "metadata": {},
   "outputs": [
    {
     "name": "stdout",
     "output_type": "stream",
     "text": [
      "Epoch 1/15\n",
      "648/648 [==============================] - 23s 35ms/step - loss: 0.2498 - accuracy: 0.9113 - val_loss: 0.5767 - val_accuracy: 0.8092\n",
      "Epoch 2/15\n",
      "648/648 [==============================] - 21s 33ms/step - loss: 0.1944 - accuracy: 0.9354 - val_loss: 0.5971 - val_accuracy: 0.8252\n",
      "Epoch 3/15\n",
      "648/648 [==============================] - 22s 34ms/step - loss: 0.1829 - accuracy: 0.9411 - val_loss: 0.5960 - val_accuracy: 0.8262\n",
      "Epoch 4/15\n",
      "648/648 [==============================] - 23s 36ms/step - loss: 0.1755 - accuracy: 0.9429 - val_loss: 0.6157 - val_accuracy: 0.8182\n",
      "Epoch 5/15\n",
      "648/648 [==============================] - 22s 33ms/step - loss: 0.1686 - accuracy: 0.9467 - val_loss: 0.6109 - val_accuracy: 0.8224\n",
      "Epoch 6/15\n",
      "648/648 [==============================] - 25s 38ms/step - loss: 0.1626 - accuracy: 0.9477 - val_loss: 0.6031 - val_accuracy: 0.8170\n",
      "Epoch 7/15\n",
      "648/648 [==============================] - 23s 35ms/step - loss: 0.1572 - accuracy: 0.9496 - val_loss: 0.6159 - val_accuracy: 0.8190\n",
      "Epoch 8/15\n",
      "648/648 [==============================] - 22s 34ms/step - loss: 0.1512 - accuracy: 0.9520 - val_loss: 0.6670 - val_accuracy: 0.8107\n",
      "Epoch 9/15\n",
      "648/648 [==============================] - 23s 35ms/step - loss: 0.1443 - accuracy: 0.9540 - val_loss: 0.6604 - val_accuracy: 0.8132\n",
      "Epoch 10/15\n",
      "648/648 [==============================] - 24s 37ms/step - loss: 0.1383 - accuracy: 0.9562 - val_loss: 0.6891 - val_accuracy: 0.8152\n",
      "Epoch 11/15\n",
      "648/648 [==============================] - 24s 38ms/step - loss: 0.1370 - accuracy: 0.9567 - val_loss: 0.6835 - val_accuracy: 0.8171\n",
      "Epoch 12/15\n",
      "648/648 [==============================] - 23s 35ms/step - loss: 0.1330 - accuracy: 0.9576 - val_loss: 0.7308 - val_accuracy: 0.8009\n",
      "Epoch 13/15\n",
      "648/648 [==============================] - 23s 36ms/step - loss: 0.1332 - accuracy: 0.9575 - val_loss: 0.6765 - val_accuracy: 0.8100\n",
      "Epoch 14/15\n",
      "648/648 [==============================] - 23s 35ms/step - loss: 0.1299 - accuracy: 0.9596 - val_loss: 0.7072 - val_accuracy: 0.8147\n",
      "Epoch 15/15\n",
      "648/648 [==============================] - 23s 35ms/step - loss: 0.1291 - accuracy: 0.9596 - val_loss: 0.6615 - val_accuracy: 0.8158\n"
     ]
    }
   ],
   "source": [
    "hist_cnn = cnn_model.fit(\n",
    "    X_train, \n",
    "    y_train, \n",
    "    batch_size=128,\n",
    "    epochs=15,\n",
    "    validation_data=(X_val, y_val)\n",
    ")"
   ]
  },
  {
   "cell_type": "code",
   "execution_count": 18,
   "metadata": {},
   "outputs": [
    {
     "name": "stdout",
     "output_type": "stream",
     "text": [
      "821/821 [==============================] - 2s 3ms/step - loss: 0.6615 - accuracy: 0.8158\n"
     ]
    },
    {
     "data": {
      "text/plain": [
       "[0.6615373492240906, 0.8157584071159363]"
      ]
     },
     "execution_count": 18,
     "metadata": {},
     "output_type": "execute_result"
    }
   ],
   "source": [
    "cnn_model.evaluate(X_val, y_val)"
   ]
  },
  {
   "cell_type": "code",
   "execution_count": 19,
   "metadata": {
    "scrolled": true
   },
   "outputs": [
    {
     "data": {
      "text/plain": [
       "array([[ 0.1429364 ],\n",
       "       [ 0.11962729],\n",
       "       [ 0.09631817],\n",
       "       ...,\n",
       "       [-0.31159139],\n",
       "       [-0.30576411],\n",
       "       [-0.30576411]])"
      ]
     },
     "execution_count": 19,
     "metadata": {},
     "output_type": "execute_result"
    }
   ],
   "source": [
    "X_val[0]"
   ]
  },
  {
   "cell_type": "code",
   "execution_count": 20,
   "metadata": {},
   "outputs": [
    {
     "data": {
      "text/plain": [
       "(26259, 2160, 1)"
      ]
     },
     "execution_count": 20,
     "metadata": {},
     "output_type": "execute_result"
    }
   ],
   "source": [
    "X_val.shape"
   ]
  },
  {
   "cell_type": "code",
   "execution_count": 21,
   "metadata": {},
   "outputs": [
    {
     "data": {
      "text/plain": [
       "numpy.ndarray"
      ]
     },
     "execution_count": 21,
     "metadata": {},
     "output_type": "execute_result"
    }
   ],
   "source": [
    "type(X_val)"
   ]
  },
  {
   "cell_type": "code",
   "execution_count": 22,
   "metadata": {},
   "outputs": [],
   "source": [
    "predictions = cnn_model.predict(X_val)"
   ]
  },
  {
   "cell_type": "code",
   "execution_count": 23,
   "metadata": {},
   "outputs": [
    {
     "data": {
      "text/plain": [
       "array([[9.9352801e-01],\n",
       "       [9.9915230e-01],\n",
       "       [9.9937409e-01],\n",
       "       ...,\n",
       "       [2.1374226e-04],\n",
       "       [3.6063790e-04],\n",
       "       [1.7064810e-04]], dtype=float32)"
      ]
     },
     "execution_count": 23,
     "metadata": {},
     "output_type": "execute_result"
    }
   ],
   "source": [
    "predictions"
   ]
  },
  {
   "cell_type": "code",
   "execution_count": 24,
   "metadata": {
    "scrolled": false
   },
   "outputs": [
    {
     "data": {
      "text/plain": [
       "array([[1],\n",
       "       [1],\n",
       "       [1],\n",
       "       ...,\n",
       "       [0],\n",
       "       [0],\n",
       "       [0]])"
      ]
     },
     "execution_count": 24,
     "metadata": {},
     "output_type": "execute_result"
    }
   ],
   "source": [
    "y_val"
   ]
  },
  {
   "cell_type": "code",
   "execution_count": 27,
   "metadata": {},
   "outputs": [
    {
     "data": {
      "image/png": "[encoded data removed]",
      "text/plain": [
       "<Figure size 432x288 with 1 Axes>"
      ]
     },
     "metadata": {
      "needs_background": "light"
     },
     "output_type": "display_data"
    }
   ],
   "source": [
    "# summarize history for accuracy\n",
    "plt.plot(hist_cnn.history['accuracy'])\n",
    "plt.plot(hist_cnn.history['val_accuracy'])\n",
    "plt.title('CNN model accuracy')\n",
    "plt.ylabel('accuracy')\n",
    "plt.xlabel('epoch')\n",
    "plt.legend(['train', 'test'], loc='upper left')\n",
    "plt.show()"
   ]
  },
  {
   "cell_type": "code",
   "execution_count": 28,
   "metadata": {
    "scrolled": false
   },
   "outputs": [
    {
     "data": {
      "image/png": "[encoded data removed]",
      "text/plain": [
       "<Figure size 432x288 with 1 Axes>"
      ]
     },
     "metadata": {
      "needs_background": "light"
     },
     "output_type": "display_data"
    }
   ],
   "source": [
    "# summarize history for loss\n",
    "plt.plot(hist_cnn.history['loss'])\n",
    "plt.plot(hist_cnn.history['val_loss'])\n",
    "plt.title('CNN model loss')\n",
    "plt.ylabel('loss')\n",
    "plt.xlabel('epoch')\n",
    "plt.legend(['train', 'test'], loc='upper left')\n",
    "plt.show()"
   ]
  },
  {
   "cell_type": "code",
   "execution_count": 26,
   "metadata": {},
   "outputs": [
    {
     "name": "stdout",
     "output_type": "stream",
     "text": [
      "Printing JSON serialized NumPy array\n",
      "\n",
      "\n",
      "{\"signal_data\": [[0.14293640426827192], [0.11962728663070521], [0.09631816899313851], [0.04969993371800509], [0.008908977852263352], [-0.0027455809665199796], [0.00308169844287167], [-0.020227419194695024], [-0.03188197801347839], [-0.055191095651045116], [-0.09598205151678682], [-0.08432749269800346], [-0.09015477210739514], [-0.1018093309261785], [-0.13094572797313683], [-0.15425484561070357], [-0.16590940442948693], [-0.16008212502009525], [-0.1484275662013119], [-0.15425484561070357], [-0.1717366838388786], [-0.16590940442948693], [-0.183391242657662], [-0.183391242657662], [-0.16590940442948693], [-0.1775639632482703], [-0.183391242657662], [-0.20670036029522865], [-0.18921852206705367], [-0.19504580147644535], [-0.1717366838388786], [-0.1717366838388786], [-0.16590940442948693], [-0.183391242657662], [-0.18921852206705367], [-0.20087308088583702], [-0.1717366838388786], [-0.16590940442948693], [-0.1717366838388786], [-0.183391242657662], [-0.21252763970462032], [-0.20670036029522865], [-0.1775639632482703], [-0.183391242657662], [-0.18921852206705367], [-0.183391242657662], [-0.1775639632482703], [-0.16008212502009525], [-0.1484275662013119], [-0.13677300738252854], [-0.13677300738252854], [-0.13094572797313683], [-0.13677300738252854], [-0.11346388974496187], [-0.10763661033557019], [-0.11346388974496187], [-0.11929116915435355], [-0.12511844856374524], [-0.13677300738252854], [-0.13094572797313683], [-0.13677300738252854], [-0.11929116915435355], [-0.12511844856374524], [-0.11929116915435355], [-0.14260028679192022], [-0.11929116915435355], [-0.09598205151678682], [-0.1018093309261785], [-0.11929116915435355], [-0.15425484561070357], [-0.16590940442948693], [-0.1484275662013119], [-0.12511844856374524], [-0.10763661033557019], [-0.11929116915435355], [-0.12511844856374524], [-0.1484275662013119], [-0.1717366838388786], [-0.16008212502009525], [-0.1484275662013119], [-0.14260028679192022], [-0.16590940442948693], [-0.16590940442948693], [-0.1484275662013119], [-0.14260028679192022], [-0.13677300738252854], [-0.13677300738252854], [-0.15425484561070357], [-0.15425484561070357], [-0.14260028679192022], [-0.13094572797313683], [-0.14260028679192022], [-0.13677300738252854], [-0.16008212502009525], [-0.15425484561070357], [-0.13677300738252854], [-0.13677300738252854], [-0.13677300738252854], [-0.15425484561070357], [-0.1484275662013119], [-0.15425484561070357], [-0.14260028679192022], [-0.13094572797313683], [-0.13094572797313683], [-0.13094572797313683], [-0.1484275662013119], [-0.1484275662013119], [-0.11929116915435355], [-0.12511844856374524], [-0.12511844856374524], [-0.13094572797313683], [-0.1484275662013119], [-0.16008212502009525], [-0.14260028679192022], [-0.12511844856374524], [-0.12511844856374524], [-0.13677300738252854], [-0.15425484561070357], [-0.15425484561070357], [-0.14260028679192022], [-0.12511844856374524], [-0.10763661033557019], [-0.10763661033557019], [-0.11929116915435355], [-0.1484275662013119], [-0.11929116915435355], [-0.09015477210739514], [-0.07850021328861177], [-0.07850021328861177], [-0.06101837506043673], [-0.055191095651045116], [-0.014400139785303342], [0.020563536671046715], [0.04969993371800509], [0.08466361017435516], [0.1254545660400969], [0.20703647777158038], [0.3702003012345473], [0.6499097128853477], [1.2093285361869486], [1.902774785904558], [2.368957138655892], [2.4738481680249422], [2.3864389768840675], [2.287375226924409], [2.211620594602317], [2.1591750799177922], [2.0659386093675254], [1.9493930211796917], [1.821192874173075], [1.7396109624415914], [1.6288926536631494], [1.5531380213410577], [1.4424197125626157], [1.314219565555999], [1.1918466979587738], [1.0578192715427652], [0.8888281686704066], [0.7256643452074396], [0.5158822864693392], [0.2944456689124555], [0.06718177194618014], [-0.183391242657662], [-0.4397915366708957], [-0.7369827865498711], [-1.0166921982006716], [-1.2556106539857306], [-1.4770472715426142], [-1.6518656538243643], [-1.8325113155155064], [-1.9956751389784735], [-2.112220727166307], [-2.199629918307182], [-2.2579027124010986], [-2.287039109448057], [-2.362793741770149], [-2.4618574917298077], [-2.560921241689466], [-2.6425031534209493], [-2.6774668298772992], [-2.718257785743041], [-2.7940124180651327], [-2.846457932749658], [-2.863939770977833], [-2.759048741608783], [-2.5201302858237242], [-2.252075432991707], [-1.9898478595690816], [-1.768411242012198], [-1.570283742092881], [-1.424601756858089], [-1.2905743304420805], [-1.1973378598918136], [-1.1099286687509387], [-1.0516558746570217], [-0.9992103599724967], [-0.9700739629255382], [-0.9059738894222298], [-0.8710102129658798], [-0.865182933556488], [-0.8593556541470964], [-0.8535283747377047], [-0.8360465365095296], [-0.7486373453686546], [-0.6728827130465628], [-0.6029553601338626], [-0.5330280072211625], [-0.48640977194602913], [-0.433964257261504], [-0.37569146316758734], [-0.27080043379853713], [-0.20087308088583702], [-0.12511844856374524], [-0.04936381624165343], [0.020563536671046715], [0.07300905135557179], [0.16041824249644696], [0.23034559540914706], [0.2711365512748888], [0.3235820659594139], [0.32940934536880556], [0.32940934536880556], [0.3585457424157639], [0.3702003012345473], [0.393509418872114], [0.393509418872114], [0.41099125710028905], [0.4401276541472474], [0.4867458894223808], [0.5217095658787309], [0.5450186835162976], [0.5683278011538644], [0.5799823599726477], [0.6207733158383894], [0.6615642717041311], [0.6907006687510895], [0.6965279481604812], [0.7023552275698729], [0.737318904026223], [0.7781098598919646], [0.8422099333952732], [0.8830008892610149], [0.9237918451267567], [0.952928242173715], [0.97041008040189], [1.0112010362676318], [1.0694738303615485], [1.1102647862272903], [1.1452284626836402], [1.1743648597305987], [1.2151558155963404], [1.2559467714620822], [1.2967377273278238], [1.331701403784174], [1.366665080240524], [1.3899741978780906], [1.3783196390593073], [1.4016287566968741], [1.4307651537438324], [1.454074271381399], [1.4482469919720076], [1.4482469919720076], [1.4482469919720076], [1.454074271381399], [1.4773833890189658], [1.4773833890189658], [1.4482469919720076], [1.4249378743344407], [1.3958014772874823], [1.3783196390593073], [1.384146918468699], [1.349183242012349], [1.2909104479184321], [1.2792558890996488], [1.238464933233907], [1.2035012567775571], [1.1918466979587738], [1.1452284626836402], [1.1102647862272903], [1.0519919921333736], [0.9937191980394567], [0.952928242173715], [0.9004827274891899], [0.8480372128046648], [0.7955916981201396], [0.719837065798048], [0.6440824334759561], [0.6091187570196059], [0.5625005217444726], [0.5333641246975143], [0.47509133060359743], [0.41099125710028905], [0.34689118359698057], [0.3177547865500222], [0.28279111009367214], [0.2478274336373221], [0.20703647777158038], [0.16624552190583863], [0.11380000722131352], [0.09631816899313851], [0.07883633076496346], [0.05552721312739677], [0.026390816080438396], [0.014736257261655034], [-0.008572860375911661], [-0.03188197801347839], [-0.03188197801347839], [-0.055191095651045116], [-0.0726729338792201], [-0.09015477210739514], [-0.11346388974496187], [-0.1018093309261785], [-0.11346388974496187], [-0.1018093309261785], [-0.11929116915435355], [-0.13094572797313683], [-0.13677300738252854], [-0.13677300738252854], [-0.11929116915435355], [-0.13094572797313683], [-0.1484275662013119], [-0.16590940442948693], [-0.183391242657662], [-0.183391242657662], [-0.16008212502009525], [-0.16008212502009525], [-0.1775639632482703], [-0.18921852206705367], [-0.183391242657662], [-0.1775639632482703], [-0.16590940442948693], [-0.15425484561070357], [-0.16008212502009525], [-0.1775639632482703], [-0.18921852206705367], [-0.19504580147644535], [-0.1775639632482703], [-0.15425484561070357], [-0.16008212502009525], [-0.183391242657662], [-0.19504580147644535], [-0.1775639632482703], [-0.13094572797313683], [-0.1018093309261785], [-0.09015477210739514], [-0.11929116915435355], [-0.13094572797313683], [-0.14260028679192022], [-0.13094572797313683], [-0.11346388974496187], [-0.10763661033557019], [-0.12511844856374524], [-0.13094572797313683], [-0.11346388974496187], [-0.10763661033557019], [-0.10763661033557019], [-0.13094572797313683], [-0.14260028679192022], [-0.14260028679192022], [-0.13677300738252854], [-0.13094572797313683], [-0.12511844856374524], [-0.1484275662013119], [-0.14260028679192022], [-0.1484275662013119], [-0.13677300738252854], [-0.13677300738252854], [-0.13677300738252854], [-0.16590940442948693], [-0.16590940442948693], [-0.1775639632482703], [-0.1717366838388786], [-0.15425484561070357], [-0.13677300738252854], [-0.1484275662013119], [-0.1717366838388786], [-0.16590940442948693], [-0.13094572797313683], [-0.10763661033557019], [-0.08432749269800346], [-0.0726729338792201], [-0.0726729338792201], [-0.06101837506043673], [-0.026054698604086705], [0.026390816080438396], [0.07300905135557179], [0.11962728663070521], [0.13128184544948857], [0.13710912485888024], [0.16041824249644696], [0.18372736013401367], [0.20120919836218867], [0.24200015422793042], [0.2536547130467138], [0.2536547130467138], [0.2478274336373221], [0.23617287481853874], [0.21286375718097203], [0.20120919836218867], [0.177900080724622], [0.15459096308705528], [0.177900080724622], [0.195381918952797], [0.18372736013401367], [0.16624552190583863], [0.14293640426827192], [0.13710912485888024], [0.14293640426827192], [0.13128184544948857], [0.09631816899313851], [0.05552721312739677], [0.020563536671046715], [-0.020227419194695024], [-0.03770925742287007], [-0.04353653683226175], [-0.0726729338792201], [-0.10763661033557019], [-0.13094572797313683], [-0.16008212502009525], [-0.16590940442948693], [-0.1717366838388786], [-0.1775639632482703], [-0.183391242657662], [-0.20670036029522865], [-0.23583675734218706], [-0.22418219852340368], [-0.24749131616097042], [-0.24166403675157874], [-0.24749131616097042], [-0.24166403675157874], [-0.22418219852340368], [-0.19504580147644535], [-0.16008212502009525], [-0.11346388974496187], [-0.026054698604086705], [0.18372736013401367], [0.6615642717041311], [1.3783196390593073], [2.0368022123205667], [2.2990297857431923], [2.182484197555359], [1.9843566976360416], [1.8619838300388165], [1.8095383153542914], [1.780401918307333], [1.6813381683476745], [1.5939289772067995], [1.4773833890189658], [1.3550105214217405], [1.2909104479184321], [1.2035012567775571], [1.1102647862272903], [0.9995464774488484], [0.8538644922140565], [0.719837065798048], [0.6091187570196059], [0.46926405119420583], [0.33523662477819727], [0.16041824249644696], [-0.020227419194695024], [-0.18921852206705367], [-0.33490050730184556], [-0.48640977194602913], [-0.6554008748183878], [-0.8593556541470964], [-1.0749649922945885], [-1.302228889260864], [-1.4653927127238306], [-1.5644564626834891], [-1.6169019773680144], [-1.6635202126431476], [-1.733447565555848], [-1.7742385214215894], [-1.8325113155155064], [-1.9490569037033398], [-2.071429771300565], [-2.205457197716574], [-2.3103482270856235], [-2.397757418226499], [-2.4968211681861576], [-2.555093962280074], [-2.613366756373991], [-2.5784030799176407], [-2.4676847711391994], [-2.2986936682668406], [-2.0947388889381315], [-1.8849568302000315], [-1.6810020508713228], [-1.4828745509520056], [-1.3605016833547805], [-1.2964016098514721], [-1.2206469775293805], [-1.1623741834354635], [-1.1041013893415468], [-1.0574831540664134], [-1.0108649187912802], [-0.9817285217443216], [-0.9467648452879714], [-0.9292830070597966], [-0.9059738894222298], [-0.8768374923752714], [-0.8243919776907462], [-0.760291904187438], [-0.6728827130465628], [-0.597128080724471], [-0.4980643307648125], [-0.44561881608028736], [-0.4106551396239373], [-0.3407277867112372], [-0.24166403675157874], [-0.15425484561070357], [-0.04936381624165343], [0.020563536671046715], [0.09631816899313851], [0.14876368367766357], [0.2186910365903637], [0.2886183895030638], [0.32940934536880556], [0.34689118359698057], [0.3702003012345473], [0.38768213946272234], [0.41681853650968076], [0.44595493355663907], [0.46926405119420583], [0.47509133060359743], [0.4867458894223808], [0.5100550070599476], [0.5275368452881226], [0.5683278011538644], [0.5858096393820393], [0.6032914776102143], [0.626600595247781], [0.6324278746571728], [0.6673915511135228], [0.6965279481604812], [0.719837065798048], [0.7548007422543979], [0.7781098598919646], [0.789764418710748], [0.8363826539858814], [0.8713463304422315], [0.917964565717365], [0.9296191245361483], [0.9645828009924983], [0.9820646392206733], [1.022855595086415], [1.0578192715427652], [1.0986102274085068], [1.1219193450460736], [1.151055742093032], [1.1743648597305987], [1.2151558155963404], [1.238464933233907], [1.2617740508714737], [1.2850831685090405], [1.2967377273278238], [1.3258741243747822], [1.3375286831935658], [1.3608378008311324], [1.3783196390593073], [1.366665080240524], [1.3783196390593073], [1.366665080240524], [1.384146918468699], [1.3899741978780906], [1.3783196390593073], [1.3724923596499154], [1.3550105214217405], [1.349183242012349], [1.3433559626029572], [1.331701403784174], [1.2967377273278238], [1.2792558890996488], [1.238464933233907], [1.2093285361869486], [1.186019418549382], [1.168537580321207], [1.1394011832742486], [1.1044375068178984], [1.0636465509521569], [1.0286828744958068], [0.9937191980394567], [0.9645828009924983], [0.917964565717365], [0.8830008892610149], [0.8363826539858814], [0.7606280216637896], [0.7314916246168313], [0.6965279481604812], [0.6557369922947395], [0.6091187570196059], [0.5450186835162976], [0.49840044824116414], [0.46926405119420583], [0.45178221296603077], [0.38768213946272234], [0.34106390418758886], [0.3002729483218472], [0.24200015422793042], [0.22451831599975539], [0.18372736013401367], [0.15459096308705528], [0.11380000722131352], [0.07883633076496346], [0.026390816080438396], [0.026390816080438396], [0.026390816080438396], [0.00308169844287167], [-0.020227419194695024], [-0.03770925742287007], [-0.0726729338792201], [-0.0726729338792201], [-0.06684565446982842], [-0.08432749269800346], [-0.09015477210739514], [-0.09598205151678682], [-0.10763661033557019], [-0.12511844856374524], [-0.13094572797313683], [-0.13677300738252854], [-0.14260028679192022], [-0.14260028679192022], [-0.15425484561070357], [-0.1484275662013119], [-0.13094572797313683], [-0.1484275662013119], [-0.16008212502009525], [-0.16590940442948693], [-0.1775639632482703], [-0.16590940442948693], [-0.15425484561070357], [-0.1717366838388786], [-0.1717366838388786], [-0.16590940442948693], [-0.16590940442948693], [-0.16008212502009525], [-0.14260028679192022], [-0.12511844856374524], [-0.11346388974496187], [-0.1018093309261785], [-0.09015477210739514], [-0.04353653683226175], [0.00308169844287167], [0.06135449253678846], [0.09631816899313851], [0.13128184544948857], [0.14293640426827192], [0.1720728013152303], [0.20120919836218867], [0.21286375718097203], [0.23034559540914706], [0.24200015422793042], [0.2536547130467138], [0.2769638306842805], [0.2769638306842805], [0.24200015422793042], [0.20703647777158038], [0.1720728013152303], [0.15459096308705528], [0.15459096308705528], [0.16041824249644696], [0.177900080724622], [0.18372736013401367], [0.1720728013152303], [0.15459096308705528], [0.18372736013401367], [0.177900080724622], [0.16041824249644696], [0.14293640426827192], [0.11962728663070521], [0.09049088958374683], [0.07883633076496346], [0.038045374899221725], [0.008908977852263352], [-0.014400139785303342], [-0.026054698604086705], [-0.06684565446982842], [-0.08432749269800346], [-0.11346388974496187], [-0.11346388974496187], [-0.1484275662013119], [-0.1775639632482703], [-0.20087308088583702], [-0.218354919114012], [-0.22418219852340368], [-0.25331859557036207], [-0.24166403675157874], [-0.28828227202671214], [-0.28245499261732043], [-0.2766277132079288], [-0.2766277132079288], [-0.28828227202671214], [-0.30576411025488714], [-0.30576411025488714], [-0.3174186690736705], [-0.30576411025488714], [-0.2941095514361038], [-0.29993683084549544], [-0.29993683084549544], [-0.30576411025488714], [-0.3232459484830622], [-0.32907322789245386], [-0.3115913896642788], [-0.3174186690736705], [-0.3232459484830622], [-0.3232459484830622], [-0.32907322789245386], [-0.3232459484830622], [-0.30576411025488714], [-0.3174186690736705], [-0.3174186690736705], [-0.3232459484830622], [-0.32907322789245386], [-0.3232459484830622], [-0.3115913896642788], [-0.3174186690736705], [-0.33490050730184556], [-0.33490050730184556], [-0.35238234553002057], [-0.3465550661206289], [-0.32907322789245386], [-0.3232459484830622], [-0.3174186690736705], [-0.32907322789245386], [-0.33490050730184556], [-0.3465550661206289], [-0.3174186690736705], [-0.3115913896642788], [-0.3115913896642788], [-0.3174186690736705], [-0.33490050730184556], [-0.32907322789245386], [-0.3115913896642788], [-0.30576411025488714], [-0.3115913896642788], [-0.32907322789245386], [-0.3232459484830622], [-0.32907322789245386], [-0.3115913896642788], [-0.28828227202671214], [-0.28245499261732043], [-0.2941095514361038], [-0.2941095514361038], [-0.28245499261732043], [-0.25331859557036207], [-0.24166403675157874], [-0.22418219852340368], [-0.218354919114012], [-0.19504580147644535], [-0.13677300738252854], [-0.008572860375911661], [0.2594819924561054], [0.7548007422543979], [1.4016287566968741], [1.9785294182266502], [2.2057933151929254], [2.124211403461442], [1.9843566976360416], [1.8736383888575998], [1.8037110359448998], [1.7396109624415914], [1.6522017713007162], [1.564792580159841], [1.454074271381399], [1.3608378008311324], [1.2501194920526904], [1.151055742093032], [1.0811283891803318], [0.9937191980394567], [0.8713463304422315], [0.7314916246168313], [0.5799823599726477], [0.4226458159190724], [0.2711365512748888], [0.11962728663070521], [-0.06684565446982842], [-0.28828227202671214], [-0.5330280072211625], [-0.7777737424156129], [-0.9992103599724967], [-1.2206469775293805], [-1.4304290362674807], [-1.640211095005581], [-1.8616477125624649], [-2.0481206536629983], [-2.1530116830320485], [-2.2112844771259654], [-2.2579027124010986], [-2.275384550629274], [-2.3103482270856235], [-2.3511391829513655], [-2.415239256454674], [-2.5026484475955493], [-2.6075394769645994], [-2.6832941092866913], [-2.741566903380608], [-2.7940124180651327], [-2.8348033739308747], [-2.8173215357026997], [-2.7473941827899995], [-2.6250213151927744], [-2.4560302123204156], [-2.327830065313799], [-2.118048006575698], [-1.91409322724699], [-1.710138447918281], [-1.529492786227139], [-1.4012926392205223], [-1.3371925657172137], [-1.2381288157575554], [-1.156546904026072], [-1.063310433475805], [-1.0166921982006716], [-0.9642466835161466], [-0.9118011688316214], [-0.8535283747377047], [-0.8185646982813547], [-0.795255580643788], [-0.7836010218250047], [-0.760291904187438], [-0.7020191100935211], [-0.6029553601338626], [-0.5155461689929876], [-0.45144609548967907], [-0.39317330139576223], [-0.3465550661206289], [-0.2766277132079288], [-0.20087308088583702], [-0.11929116915435355], [-0.04353653683226175], [0.014736257261655034], [0.08466361017435516], [0.16041824249644696], [0.24200015422793042], [0.2944456689124555], [0.376027580643939], [0.4284730953284641], [0.45178221296603077], [0.47509133060359743], [0.5042277276505558], [0.5275368452881226], [0.5450186835162976], [0.5450186835162976], [0.556673242335081], [0.5799823599726477], [0.626600595247781], [0.6557369922947395], [0.6790461099323062], [0.6673915511135228], [0.6848733893416978], [0.6907006687510895], [0.7256643452074396], [0.7606280216637896], [0.7664553010731813], [0.7839371393013563], [0.7839371393013563], [0.807246256938923], [0.8422099333952732], [0.8830008892610149], [0.8946554480797982], [0.9121372863079733], [0.9354464039455399], [0.952928242173715], [0.97041008040189], [1.0053737568582402], [1.0286828744958068], [1.0578192715427652], [1.0927829479991151], [1.1219193450460736], [1.1627103009118154], [1.2035012567775571], [1.2093285361869486], [1.1976739773681653], [1.220983095005732], [1.2617740508714737], [1.2967377273278238], [1.314219565555999], [1.314219565555999], [1.314219565555999], [1.3025650067372156], [1.3258741243747822], [1.3433559626029572], [1.349183242012349], [1.349183242012349], [1.3433559626029572], [1.3550105214217405], [1.366665080240524], [1.384146918468699], [1.3724923596499154], [1.3550105214217405], [1.3258741243747822], [1.308392286146607], [1.2967377273278238], [1.2967377273278238], [1.2676013302808655], [1.2442922126432987], [1.220983095005732], [1.1918466979587738], [1.1801921391399903], [1.151055742093032], [1.133573903864857], [1.0986102274085068], [1.0578192715427652], [1.0286828744958068], [0.9937191980394567], [0.987891918630065], [0.97041008040189], [0.917964565717365], [0.8830008892610149], [0.8480372128046648], [0.8247280951670981], [0.8014189775295314], [0.7955916981201396], [0.7781098598919646], [0.7431461834356147], [0.737318904026223], [0.7314916246168313], [0.7431461834356147], [0.737318904026223], [0.719837065798048], [0.6965279481604812], [0.6499097128853477], [0.6440824334759561], [0.6382551540665644], [0.6324278746571728], [0.6207733158383894], [0.6032914776102143], [0.5450186835162976], [0.49840044824116414], [0.4576094923754225], [0.3993366982815057], [0.36437302182515563], [0.3177547865500222], [0.28279111009367214], [0.2944456689124555], [0.2944456689124555], [0.2886183895030638], [0.2594819924561054], [0.23034559540914706], [0.21286375718097203], [0.18955463954340532], [0.1720728013152303], [0.14876368367766357], [0.13128184544948857], [0.09631816899313851], [0.06135449253678846], [0.026390816080438396], [0.00308169844287167], [-0.020227419194695024], [-0.06684565446982842], [-0.1018093309261785], [-0.1484275662013119], [-0.16008212502009525], [-0.19504580147644535], [-0.21252763970462032], [-0.23583675734218706], [-0.2649731543891455], [-0.2766277132079288], [-0.27080043379853713], [-0.28828227202671214], [-0.29993683084549544], [-0.32907322789245386], [-0.35238234553002057], [-0.36986418375819563], [-0.3640369043488039], [-0.3582096249394123], [-0.3640369043488039], [-0.36986418375819563], [-0.3640369043488039], [-0.381518742576979], [-0.37569146316758734], [-0.36986418375819563], [-0.37569146316758734], [-0.381518742576979], [-0.3873460219863705], [-0.4106551396239373], [-0.39317330139576223], [-0.36986418375819563], [-0.3873460219863705], [-0.37569146316758734], [-0.39900058080515394], [-0.39317330139576223], [-0.39317330139576223], [-0.37569146316758734], [-0.36986418375819563], [-0.37569146316758734], [-0.36986418375819563], [-0.381518742576979], [-0.381518742576979], [-0.3640369043488039], [-0.36986418375819563], [-0.36986418375819563], [-0.3873460219863705], [-0.36986418375819563], [-0.37569146316758734], [-0.3582096249394123], [-0.3873460219863705], [-0.39900058080515394], [-0.42230969844272065], [-0.44561881608028736], [-0.45144609548967907], [-0.433964257261504], [-0.4048278602145456], [-0.4106551396239373], [-0.4106551396239373], [-0.42230969844272065], [-0.4281369778521123], [-0.41648241903332894], [-0.433964257261504], [-0.4281369778521123], [-0.4106551396239373], [-0.4048278602145456], [-0.39900058080515394], [-0.39900058080515394], [-0.41648241903332894], [-0.42230969844272065], [-0.44561881608028736], [-0.4106551396239373], [-0.3873460219863705], [-0.3640369043488039], [-0.37569146316758734], [-0.381518742576979], [-0.39317330139576223], [-0.39900058080515394], [-0.381518742576979], [-0.39317330139576223], [-0.4106551396239373], [-0.41648241903332894], [-0.41648241903332894], [-0.41648241903332894], [-0.4048278602145456], [-0.39317330139576223], [-0.36986418375819563], [-0.35238234553002057], [-0.3582096249394123], [-0.36986418375819563], [-0.35238234553002057], [-0.32907322789245386], [-0.32907322789245386], [-0.3407277867112372], [-0.3640369043488039], [-0.3873460219863705], [-0.381518742576979], [-0.36986418375819563], [-0.32907322789245386], [-0.3232459484830622], [-0.3232459484830622], [-0.3465550661206289], [-0.32907322789245386], [-0.32907322789245386], [-0.3115913896642788], [-0.30576411025488714], [-0.30576411025488714], [-0.29993683084549544], [-0.29993683084549544], [-0.28828227202671214], [-0.28245499261732043], [-0.2766277132079288], [-0.2766277132079288], [-0.27080043379853713], [-0.27080043379853713], [-0.2591458749797538], [-0.2649731543891455], [-0.25331859557036207], [-0.23583675734218706], [-0.24166403675157874], [-0.22418219852340368], [-0.20087308088583702], [-0.19504580147644535], [-0.1717366838388786], [-0.10763661033557019], [0.020563536671046715], [0.32940934536880556], [0.9004827274891899], [1.6114108154349742], [2.1300386828708335], [2.2582388298774507], [2.1009022858238753], [1.9377384623609082], [1.8561565506294249], [1.8037110359448998], [1.727956403622808], [1.6230653742537577], [1.5006925066565324], [1.3958014772874823], [1.3025650067372156], [1.1976739773681653], [1.1044375068178984], [0.97041008040189], [0.8189008157577063], [0.6673915511135228], [0.5217095658787309], [0.34689118359698057], [0.16041824249644696], [-0.03770925742287007], [-0.23583675734218706], [-0.44561881608028736], [-0.6845372718653461], [-0.9234557276504047], [-1.174028742254247], [-1.389638080401739], [-1.5935928597304478], [-1.7625839626028064], [-1.9432296242939482], [-2.0656024918911733], [-2.15883896244144], [-2.2229390359447487], [-2.2579027124010986], [-2.2812118300386652], [-2.327830065313799], [-2.4035846976358908], [-2.5201302858237242], [-2.6075394769645994], [-2.700775947514866], [-2.7473941827899995], [-2.8056669768839164], [-2.85228521215905], [-2.8581124915684417], [-2.770703300427566], [-2.595884918145816], [-2.368621021179541], [-2.141357124213265], [-1.9082659478375983], [-1.6926566096901061], [-1.529492786227139], [-1.4304290362674807], [-1.3430198451266055], [-1.261437933395122], [-1.1623741834354635], [-1.0924468305227635], [-1.0341740364288468], [-0.9700739629255382], [-0.8943193306034465], [-0.8418738159189213], [-0.8243919776907462], [-0.8185646982813547], [-0.8185646982813547], [-0.795255580643788], [-0.7136736689123044], [-0.632091757180821], [-0.5446825660399458], [-0.49223705135542084], [-0.433964257261504], [-0.36986418375819563], [-0.30576411025488714], [-0.23583675734218706], [-0.16590940442948693], [-0.1018093309261785], [-0.008572860375911661], [0.07883633076496346], [0.16041824249644696], [0.2186910365903637], [0.2886183895030638], [0.34106390418758886], [0.376027580643939], [0.41099125710028905], [0.4401276541472474], [0.47509133060359743], [0.4867458894223808], [0.49840044824116414], [0.5042277276505558], [0.5391914041069059], [0.5683278011538644], [0.6032914776102143], [0.6032914776102143], [0.6207733158383894], [0.6324278746571728], [0.6673915511135228], [0.7140097863886562], [0.7489734628450062], [0.7781098598919646], [0.807246256938923], [0.8363826539858814], [0.8713463304422315], [0.9004827274891899], [0.9471009627643232], [0.9995464774488484], [1.0345101539051984], [1.0986102274085068], [1.1627103009118154], [1.2326376538245154], [1.314219565555999], [1.3550105214217405], [1.4132833155156574], [1.4424197125626157], [1.4832106684283577], [1.5298289037034911], [1.5589653007504494], [1.6055835360255828], [1.634719933072541], [1.6638563301194995], [1.6638563301194995], [1.6638563301194995], [1.6638563301194995], [1.6638563301194995], [1.6696836095288912], [1.6696836095288912], [1.6813381683476745], [1.6696836095288912], [1.6929927271664578], [1.6988200065758496], [1.6813381683476745], [1.6522017713007162], [1.640547212481933], [1.640547212481933], [1.6230653742537577], [1.582274418388016], [1.5298289037034911], [1.4890379478377491], [1.4424197125626157], [1.4074560361062656], [1.3724923596499154], [1.314219565555999], [1.2617740508714737], [1.1976739773681653], [1.1394011832742486], [1.0869556685897235], [1.046164712723982], [1.0112010362676318], [0.9354464039455399], [0.8888281686704066], [0.8247280951670981], [0.7722825804825729], [0.7140097863886562], [0.6499097128853477], [0.5916369187914311], [0.5333641246975143], [0.48091861001298913], [0.43430037473785577], [0.393509418872114], [0.3235820659594139], [0.26530927186549713], [0.18955463954340532], [0.14293640426827192], [0.10797272781192184], [0.08466361017435516], [0.04387265430861341], [-0.014400139785303342], [-0.055191095651045116], [-0.1018093309261785], [-0.13094572797313683], [-0.16008212502009525], [-0.19504580147644535], [-0.23583675734218706], [-0.2591458749797538], [-0.28245499261732043], [-0.28828227202671214], [-0.29993683084549544], [-0.3174186690736705], [-0.35238234553002057], [-0.3640369043488039], [-0.3873460219863705], [-0.39317330139576223], [-0.39317330139576223], [-0.4048278602145456], [-0.42230969844272065], [-0.45144609548967907], [-0.4747552131272458], [-0.4631006543084624], [-0.4689279337178541], [-0.4631006543084624], [-0.4747552131272458], [-0.5038916101742041], [-0.49223705135542084], [-0.4980643307648125], [-0.48640977194602913], [-0.4980643307648125], [-0.5038916101742041], [-0.5213734484023792], [-0.5330280072211625], [-0.5155461689929876], [-0.5155461689929876], [-0.5155461689929876], [-0.5330280072211625], [-0.5330280072211625], [-0.5330280072211625], [-0.5155461689929876], [-0.5213734484023792], [-0.5330280072211625], [-0.5330280072211625], [-0.5505098454493375], [-0.5330280072211625], [-0.5155461689929876], [-0.5038916101742041], [-0.5038916101742041], [-0.4980643307648125], [-0.5155461689929876], [-0.5155461689929876], [-0.5097188895835959], [-0.4980643307648125], [-0.48058249253663743], [-0.4980643307648125], [-0.5097188895835959], [-0.5097188895835959], [-0.49223705135542084], [-0.48058249253663743], [-0.4747552131272458], [-0.4747552131272458], [-0.48058249253663743], [-0.48058249253663743], [-0.4747552131272458], [-0.45144609548967907], [-0.45144609548967907], [-0.4572733748990707], [-0.4397915366708957], [-0.4572733748990707], [-0.433964257261504], [-0.433964257261504], [-0.4397915366708957], [-0.4397915366708957], [-0.44561881608028736], [-0.44561881608028736], [-0.433964257261504], [-0.42230969844272065], [-0.4281369778521123], [-0.42230969844272065], [-0.4281369778521123], [-0.433964257261504], [-0.4106551396239373], [-0.39317330139576223], [-0.39317330139576223], [-0.4106551396239373], [-0.4281369778521123], [-0.4397915366708957], [-0.433964257261504], [-0.42230969844272065], [-0.42230969844272065], [-0.433964257261504], [-0.4281369778521123], [-0.4397915366708957], [-0.41648241903332894], [-0.4106551396239373], [-0.4048278602145456], [-0.4106551396239373], [-0.42230969844272065], [-0.4281369778521123], [-0.42230969844272065], [-0.4106551396239373], [-0.4106551396239373], [-0.41648241903332894], [-0.41648241903332894], [-0.4048278602145456], [-0.39900058080515394], [-0.3873460219863705], [-0.3873460219863705], [-0.4048278602145456], [-0.4048278602145456], [-0.4048278602145456], [-0.39317330139576223], [-0.3873460219863705], [-0.381518742576979], [-0.39900058080515394], [-0.4106551396239373], [-0.41648241903332894], [-0.37569146316758734], [-0.37569146316758734], [-0.3873460219863705], [-0.381518742576979], [-0.37569146316758734], [-0.36986418375819563], [-0.35238234553002057], [-0.3465550661206289], [-0.3582096249394123], [-0.36986418375819563], [-0.3640369043488039], [-0.3873460219863705], [-0.37569146316758734], [-0.3582096249394123], [-0.3582096249394123], [-0.3582096249394123], [-0.3465550661206289], [-0.35238234553002057], [-0.35238234553002057], [-0.33490050730184556], [-0.3232459484830622], [-0.3232459484830622], [-0.32907322789245386], [-0.33490050730184556], [-0.2941095514361038], [-0.2766277132079288], [-0.27080043379853713], [-0.24749131616097042], [-0.24749131616097042], [-0.218354919114012], [-0.13677300738252854], [0.04969993371800509], [0.45178221296603077], [1.1044375068178984], [1.7862291977167248], [2.1300386828708335], [2.0775931681863087], [1.8678111094482084], [1.7396109624415914], [1.6522017713007162], [1.582274418388016], [1.4657288302001825], [1.349183242012349], [1.2151558155963404], [1.0927829479991151], [0.9645828009924983], [0.8247280951670981], [0.6790461099323062], [0.556673242335081], [0.393509418872114], [0.18955463954340532], [-0.03188197801347839], [-0.25331859557036207], [-0.4747552131272458], [-0.7020191100935211], [-0.9292830070597966], [-1.2206469775293805], [-1.4887018303613975], [-1.7276202861464562], [-1.9374023448845565], [-2.1355298448038735], [-2.287039109448057], [-2.4035846976358908], [-2.5201302858237242], [-2.595884918145816], [-2.6250213151927744], [-2.6541577122397326], [-2.689121388696083], [-2.776530579836958], [-2.863939770977833], [-2.9455216827093165], [-3.0154490356220167], [-3.0795491091253253], [-3.120340064991067], [-3.1611310208568084], [-3.1553037414474168], [-3.0445854326689754], [-2.8348033739308747], [-2.572575800508249], [-2.292866388857449], [-2.0306388154348234], [-1.7917203596497646], [-1.622729256777406], [-1.5178382274083557], [-1.389638080401739], [-1.2789197716232972], [-1.1507196246166802], [-1.0166921982006716], [-0.9118011688316214], [-0.8069101394625714], [-0.7136736689123044], [-0.6379190365902128], [-0.5796462424962959], [-0.5155461689929876], [-0.4631006543084624], [-0.36986418375819563], [-0.24749131616097042], [-0.14260028679192022], [-0.09598205151678682], [-0.0726729338792201], [-0.03188197801347839], [0.014736257261655034], [0.09631816899313851], [0.177900080724622], [0.26530927186549713], [0.3527184630063723], [0.393509418872114], [0.4576094923754225], [0.5275368452881226], [0.5858096393820393], [0.6091187570196059], [0.6324278746571728], [0.6091187570196059], [0.5916369187914311], [0.5974641982008227], [0.5858096393820393], [0.5799823599726477], [0.5683278011538644], [0.5508459629256893], [0.556673242335081], [0.5683278011538644], [0.5858096393820393], [0.5858096393820393], [0.5916369187914311], [0.5683278011538644], [0.5858096393820393], [0.626600595247781], [0.6440824334759561], [0.6499097128853477], [0.6440824334759561], [0.6673915511135228], [0.6848733893416978], [0.7256643452074396], [0.7548007422543979], [0.7955916981201396], [0.8305553745764898], [0.8538644922140565], [0.8713463304422315], [0.9121372863079733], [0.9587555215831066], [0.987891918630065], [1.0170283156770235], [1.046164712723982], [1.0694738303615485], [1.1044375068178984], [1.1394011832742486], [1.1568830215024237], [1.168537580321207], [1.1743648597305987], [1.186019418549382], [1.2093285361869486], [1.2326376538245154], [1.238464933233907], [1.220983095005732], [1.2151558155963404], [1.2151558155963404], [1.2268103744151235], [1.2326376538245154], [1.2035012567775571], [1.1743648597305987], [1.151055742093032], [1.1277466244554653], [1.0869556685897235], [1.0578192715427652], [1.0345101539051984], [0.987891918630065], [0.9645828009924983], [0.9004827274891899], [0.8830008892610149], [0.8247280951670981], [0.7722825804825729], [0.7081825069792645], [0.6615642717041311], [0.5974641982008227], [0.5508459629256893], [0.5042277276505558], [0.45178221296603077], [0.38768213946272234], [0.3235820659594139], [0.2711365512748888], [0.23034559540914706], [0.195381918952797], [0.1254545660400969], [0.06718177194618014], [-0.0027455809665199796], [-0.04936381624165343], [-0.08432749269800346], [-0.11929116915435355], [-0.16590940442948693], [-0.21252763970462032], [-0.27080043379853713], [-0.29993683084549544], [-0.29993683084549544], [-0.3115913896642788], [-0.3582096249394123], [-0.39317330139576223], [-0.42230969844272065], [-0.44561881608028736], [-0.45144609548967907], [-0.45144609548967907], [-0.4631006543084624], [-0.4747552131272458], [-0.49223705135542084], [-0.5038916101742041], [-0.5038916101742041], [-0.5038916101742041], [-0.5213734484023792], [-0.5330280072211625], [-0.5505098454493375], [-0.5563371248587292], [-0.5330280072211625], [-0.5330280072211625], [-0.5388552866305542], [-0.5388552866305542], [-0.5563371248587292], [-0.5505098454493375], [-0.5505098454493375], [-0.5213734484023792], [-0.5563371248587292], [-0.5738189630869043], [-0.5679916836775125], [-0.5796462424962959], [-0.5563371248587292], [-0.5563371248587292], [-0.5505098454493375], [-0.5505098454493375], [-0.5388552866305542], [-0.5505098454493375], [-0.527200727811771], [-0.5155461689929876], [-0.5213734484023792], [-0.5330280072211625], [-0.5446825660399458], [-0.5388552866305542], [-0.5213734484023792], [-0.5097188895835959], [-0.5213734484023792], [-0.5155461689929876], [-0.5097188895835959], [-0.5155461689929876], [-0.4980643307648125], [-0.48058249253663743], [-0.48640977194602913], [-0.49223705135542084], [-0.5038916101742041], [-0.49223705135542084], [-0.4747552131272458], [-0.44561881608028736], [-0.4631006543084624], [-0.4747552131272458], [-0.49223705135542084], [-0.48640977194602913], [-0.48058249253663743], [-0.45144609548967907], [-0.45144609548967907], [-0.4397915366708957], [-0.4631006543084624], [-0.48058249253663743], [-0.4689279337178541], [-0.4631006543084624], [-0.4572733748990707], [-0.4631006543084624], [-0.4747552131272458], [-0.4747552131272458], [-0.4572733748990707], [-0.4572733748990707], [-0.4689279337178541], [-0.4689279337178541], [-0.4747552131272458], [-0.48058249253663743], [-0.4689279337178541], [-0.4572733748990707], [-0.4689279337178541], [-0.4631006543084624], [-0.4631006543084624], [-0.4689279337178541], [-0.4572733748990707], [-0.4689279337178541], [-0.4689279337178541], [-0.48058249253663743], [-0.48640977194602913], [-0.4747552131272458], [-0.4572733748990707], [-0.4397915366708957], [-0.4397915366708957], [-0.44561881608028736], [-0.4572733748990707], [-0.4631006543084624], [-0.4631006543084624], [-0.4572733748990707], [-0.433964257261504], [-0.4397915366708957], [-0.44561881608028736], [-0.4631006543084624], [-0.433964257261504], [-0.4281369778521123], [-0.4281369778521123], [-0.4397915366708957], [-0.45144609548967907], [-0.4631006543084624], [-0.44561881608028736], [-0.4048278602145456], [-0.41648241903332894], [-0.4281369778521123], [-0.4397915366708957], [-0.4397915366708957], [-0.4281369778521123], [-0.433964257261504], [-0.42230969844272065], [-0.433964257261504], [-0.4281369778521123], [-0.433964257261504], [-0.39900058080515394], [-0.39900058080515394], [-0.4106551396239373], [-0.4106551396239373], [-0.4106551396239373], [-0.4048278602145456], [-0.3873460219863705], [-0.37569146316758734], [-0.381518742576979], [-0.39317330139576223], [-0.39900058080515394], [-0.39900058080515394], [-0.381518742576979], [-0.3582096249394123], [-0.3407277867112372], [-0.3174186690736705], [-0.2941095514361038], [-0.2766277132079288], [-0.22418219852340368], [-0.09598205151678682], [0.18372736013401367], [0.7489734628450062], [1.4657288302001825], [1.9552203005890834], [1.9727021388172583], [1.762920080079158], [1.5706198595692327], [1.5240016242940992], [1.4773833890189658], [1.436592433153224], [1.3550105214217405], [1.2559467714620822], [1.1394011832742486], [1.0170283156770235], [0.9004827274891899], [0.789764418710748], [0.7081825069792645], [0.6032914776102143], [0.4284730953284641], [0.22451831599975539], [0.00308169844287167], [-0.25331859557036207], [-0.49223705135542084], [-0.7311555071404795], [-1.0166921982006716], [-1.3255380068984306], [-1.5994201391398393], [-1.838338594924898], [-2.036466094844215], [-2.2112844771259654], [-2.356966462360757], [-2.432721094682849], [-2.5143030064143326], [-2.572575800508249], [-2.584230359327033], [-2.6425031534209493], [-2.770703300427566], [-2.8872488886154], [-2.980485359165667], [-3.067894550306542], [-3.120340064991067], [-3.1611310208568084], [-3.178612859084984], [-3.1669583002662005], [-3.0737218297159337], [-2.8697670503872246], [-2.6308485946021665], [-2.415239256454674], [-2.2171117565353566], [-2.036466094844215], [-1.8849568302000315], [-1.750929403784023], [-1.622729256777406], [-1.4945291097707891], [-1.389638080401739], [-1.3080561686702554], [-1.2323015363481638], [-1.1507196246166802], [-1.1041013893415468], [-1.063310433475805], [-1.0516558746570217], [-1.028346757019455], [-0.993383080563105], [-0.9525921246973633], [-0.8418738159189213], [-0.7661191835968296], [-0.6728827130465628], [-0.6087826395432543], [-0.5446825660399458], [-0.4747552131272458], [-0.3582096249394123], [-0.25331859557036207], [-0.1717366838388786], [-0.11929116915435355], [-0.055191095651045116], [0.00308169844287167], [0.07300905135557179], [0.16624552190583863], [0.2186910365903637], [0.2478274336373221], [0.2594819924561054], [0.28279111009367214], [0.30610022773123885], [0.34689118359698057], [0.3585457424157639], [0.38185486005333064], [0.3993366982815057], [0.41681853650968076], [0.4576094923754225], [0.47509133060359743], [0.49840044824116414], [0.5100550070599476], [0.5333641246975143], [0.5508459629256893], [0.5799823599726477], [0.6091187570196059], [0.6499097128853477], [0.6848733893416978], [0.7256643452074396], [0.7548007422543979], [0.8130735363483147], [0.8247280951670981], [0.8655190510328399], [0.8946554480797982], [0.9354464039455399], [0.97041008040189], [1.022855595086415], [1.0811283891803318], [1.1102647862272903], [1.1452284626836402], [1.168537580321207], [1.2035012567775571], [1.2792558890996488], [1.314219565555999], [1.3375286831935658], [1.366665080240524], [1.366665080240524], [1.3958014772874823], [1.4249378743344407], [1.4482469919720076], [1.4599015507907909], [1.4599015507907909], [1.4482469919720076], [1.454074271381399], [1.4657288302001825], [1.4773833890189658], [1.4599015507907909], [1.436592433153224], [1.4074560361062656], [1.3724923596499154], [1.3375286831935658], [1.308392286146607], [1.2676013302808655], [1.238464933233907], [1.186019418549382], [1.1452284626836402], [1.116092065636682], [1.0636465509521569], [1.0112010362676318], [0.9587555215831066], [0.9063100068985817], [0.8363826539858814], [0.8014189775295314], [0.7606280216637896], [0.7081825069792645], [0.6440824334759561], [0.5858096393820393], [0.5158822864693392], [0.46926405119420583], [0.4401276541472474], [0.376027580643939], [0.3235820659594139], [0.26530927186549713], [0.21286375718097203], [0.177900080724622], [0.13710912485888024], [0.07883633076496346], [0.014736257261655034], [-0.04936381624165343], [-0.07850021328861177], [-0.1018093309261785], [-0.12511844856374524], [-0.13677300738252854], [-0.16008212502009525], [-0.1775639632482703], [-0.218354919114012], [-0.24166403675157874], [-0.22418219852340368], [-0.218354919114012], [-0.20087308088583702], [-0.21252763970462032], [-0.24749131616097042], [-0.27080043379853713], [-0.2591458749797538], [-0.27080043379853713], [-0.2941095514361038], [-0.30576411025488714], [-0.3174186690736705], [-0.30576411025488714], [-0.29993683084549544], [-0.3407277867112372], [-0.3465550661206289], [-0.3640369043488039], [-0.3640369043488039], [-0.32907322789245386], [-0.2941095514361038], [-0.29993683084549544], [-0.3115913896642788], [-0.3174186690736705], [-0.3232459484830622], [-0.3115913896642788], [-0.3174186690736705], [-0.3582096249394123], [-0.36986418375819563], [-0.33490050730184556], [-0.30576411025488714], [-0.30576411025488714], [-0.3232459484830622], [-0.3174186690736705], [-0.2941095514361038], [-0.29993683084549544], [-0.30576411025488714], [-0.29993683084549544], [-0.28828227202671214], [-0.28828227202671214], [-0.30576411025488714], [-0.3174186690736705], [-0.3174186690736705], [-0.29993683084549544], [-0.28828227202671214], [-0.2941095514361038], [-0.28828227202671214], [-0.29993683084549544], [-0.28245499261732043], [-0.27080043379853713], [-0.2591458749797538], [-0.2591458749797538], [-0.27080043379853713], [-0.29993683084549544], [-0.29993683084549544], [-0.30576411025488714], [-0.25331859557036207], [-0.24749131616097042], [-0.24166403675157874], [-0.2591458749797538], [-0.2766277132079288], [-0.2766277132079288], [-0.2941095514361038], [-0.28828227202671214], [-0.29993683084549544], [-0.30576411025488714], [-0.2941095514361038], [-0.28245499261732043], [-0.2766277132079288], [-0.2941095514361038], [-0.30576411025488714], [-0.3115913896642788], [-0.3174186690736705], [-0.29993683084549544], [-0.2941095514361038], [-0.29993683084549544], [-0.30576411025488714], [-0.30576411025488714], [-0.30576411025488714], [-0.29993683084549544], [-0.2941095514361038], [-0.30576411025488714], [-0.3174186690736705], [-0.33490050730184556], [-0.3232459484830622], [-0.3115913896642788], [-0.28245499261732043], [-0.2941095514361038], [-0.2591458749797538], [-0.2649731543891455], [-0.23583675734218706], [-0.20670036029522865], [-0.18921852206705367], [-0.16008212502009525], [-0.09598205151678682], [-0.04353653683226175], [-0.014400139785303342], [0.03221809548983008], [0.05552721312739677], [0.04969993371800509], [0.04387265430861341], [0.05552721312739677], [0.07300905135557179], [0.11962728663070521], [0.177900080724622], [0.16624552190583863], [0.14293640426827192], [0.11380000722131352], [0.08466361017435516], [0.07883633076496346], [0.07300905135557179], [0.06718177194618014], [0.06135449253678846], [0.04387265430861341], [0.04969993371800509], [0.04387265430861341], [0.020563536671046715], [0.00308169844287167], [0.00308169844287167], [-0.026054698604086705], [-0.055191095651045116], [-0.0726729338792201], [-0.09015477210739514], [-0.11346388974496187], [-0.15425484561070357], [-0.18921852206705367], [-0.21252763970462032], [-0.22418219852340368], [-0.22418219852340368], [-0.23583675734218706], [-0.23000947793279536], [-0.23000947793279536], [-0.19504580147644535], [-0.04936381624165343], [0.2944456689124555], [0.9004827274891899], [1.640547212481933], [2.0717658887769166], [1.9727021388172583], [1.6813381683476745], [1.4890379478377491], [1.4132833155156574], [1.3258741243747822], [1.2035012567775571], [1.0811283891803318], [0.9587555215831066], [0.8363826539858814], [0.6790461099323062], [0.5450186835162976], [0.41681853650968076], [0.2886183895030638], [0.1254545660400969], [-0.055191095651045116], [-0.2591458749797538], [-0.42230969844272065], [-0.5854735219056876], [-0.7544646247780462], [-0.9118011688316214], [-1.08079227170398], [-1.3080561686702554], [-1.570283742092881], [-1.8208567566967229], [-2.0306388154348234], [-2.2171117565353566], [-2.356966462360757], [-2.409411977045282], [-2.4560302123204156], [-2.4968211681861576], [-2.5201302858237242], [-2.5492666828706825], [-2.6075394769645994], [-2.718257785743041], [-2.8173215357026997], [-2.904730726843575], [-2.9571762415280998], [-3.009621756212625], [-3.0562399914877583], [-3.0795491091253253], [-3.0329308738501917], [-2.916385285662358], [-2.689121388696083], [-2.432721094682849], [-2.1938026388977905], [-1.9665387419315148], [-1.7742385214215894], [-1.640211095005581], [-1.5528019038647058], [-1.447910874495656], [-1.3605016833547805], [-1.3080561686702554], [-1.2556106539857306], [-1.2031651393012053], [-1.174028742254247], [-1.1332377863885053], [-1.0749649922945885], [-1.0108649187912802], [-0.9584194041067549], [-0.8943193306034465], [-0.7894283012343963], [-0.6728827130465628], [-0.6087826395432543], [-0.5796462424962959], [-0.5446825660399458], [-0.42230969844272065], [-0.25331859557036207], [-0.07850021328861177], [0.008908977852263352], [0.03221809548983008], [0.06718177194618014], [0.1254545660400969], [0.20703647777158038], [0.2711365512748888], [0.2944456689124555], [0.32940934536880556], [0.34689118359698057], [0.36437302182515563], [0.38185486005333064], [0.41099125710028905], [0.4634367717848141], [0.5042277276505558], [0.5391914041069059], [0.5683278011538644], [0.6149460364289977], [0.6499097128853477], [0.6907006687510895], [0.7023552275698729], [0.7314916246168313], [0.7489734628450062], [0.7781098598919646], [0.8189008157577063], [0.8713463304422315], [0.9063100068985817], [0.9121372863079733], [0.9587555215831066], [0.987891918630065], [1.022855595086415], [1.0869556685897235], [1.133573903864857], [1.1743648597305987], [1.2151558155963404], [1.2326376538245154], [1.273428609690257], [1.3200468449653906], [1.3433559626029572], [1.366665080240524], [1.384146918468699], [1.4016287566968741], [1.436592433153224], [1.4657288302001825], [1.454074271381399], [1.4715561096095742], [1.4599015507907909], [1.454074271381399], [1.4599015507907909], [1.4715561096095742], [1.454074271381399], [1.4424197125626157], [1.4307651537438324], [1.4074560361062656], [1.3783196390593073], [1.3724923596499154], [1.331701403784174], [1.2909104479184321], [1.2442922126432987], [1.2035012567775571], [1.1801921391399903], [1.1452284626836402], [1.0869556685897235], [1.0403374333145903], [0.97041008040189], [0.9237918451267567], [0.8888281686704066], [0.8480372128046648], [0.789764418710748], [0.7314916246168313], [0.6848733893416978], [0.6149460364289977], [0.574155080563256], [0.5333641246975143], [0.47509133060359743], [0.41099125710028905], [0.34106390418758886], [0.28279111009367214], [0.2478274336373221], [0.20703647777158038], [0.16041824249644696], [0.10797272781192184], [0.05552721312739677], [0.008908977852263352], [-0.026054698604086705], [-0.04353653683226175], [-0.0726729338792201], [-0.10763661033557019], [-0.14260028679192022], [-0.16590940442948693], [-0.1775639632482703], [-0.20087308088583702], [-0.21252763970462032], [-0.24166403675157874], [-0.2649731543891455], [-0.28828227202671214], [-0.2591458749797538], [-0.2649731543891455], [-0.2766277132079288], [-0.28828227202671214], [-0.29993683084549544], [-0.3115913896642788], [-0.30576411025488714], [-0.30576411025488714]]}\n",
      "Decode JSON serialized NumPy array\n"
     ]
    }
   ],
   "source": [
    "import json\n",
    "from json import JSONEncoder\n",
    "import numpy\n",
    "\n",
    "class NumpyArrayEncoder(JSONEncoder):\n",
    "    def default(self, obj):\n",
    "        if isinstance(obj, numpy.ndarray):\n",
    "            return obj.tolist()\n",
    "        return JSONEncoder.default(self, obj)\n",
    "    \n",
    "numpyArrayOne = X_val[0]\n",
    "\n",
    "# Serialization\n",
    "numpyData = {\"signal_data\": numpyArrayOne}\n",
    "encodedNumpyData = json.dumps(numpyData, cls=NumpyArrayEncoder)  # use dump() to write array into file\n",
    "print(\"Printing JSON serialized NumPy array\\n\\n\")\n",
    "print(encodedNumpyData)\n",
    "\n",
    "# Deserialization\n",
    "print(\"Decode JSON serialized NumPy array\")\n",
    "decodedArrays = json.loads(encodedNumpyData)\n",
    "\n",
    "# finalNumpyArray = numpy.asarray(decodedArrays[\"array\"])\n",
    "# print(\"NumPy Array\")\n",
    "# print(finalNumpyArray)"
   ]
  },
  {
   "cell_type": "code",
   "execution_count": 37,
   "metadata": {},
   "outputs": [],
   "source": [
    "# Save the model in H5 format\n",
    "cnn_model.save('modelCnn.h5')"
   ]
  },
  {
   "cell_type": "code",
   "execution_count": 30,
   "metadata": {},
   "outputs": [
    {
     "name": "stdout",
     "output_type": "stream",
     "text": [
      "INFO:tensorflow:Assets written to: ram://803eb097-3e38-4cb3-ac84-adb8200fbc47/assets\n"
     ]
    }
   ],
   "source": [
    "# Save the model in pickel format\n",
    "pickle.dump(cnn_model, open('modelCnn.pkl', 'wb'))"
   ]
  },
  {
   "cell_type": "code",
   "execution_count": null,
   "metadata": {},
   "outputs": [],
   "source": [
    "# Saving the model for Future Inferences\n",
    "\n",
    "model_json = cnn_model.to_json()\n",
    "with open(\"model.json\", \"w\") as json_file:\n",
    "    json_file.write(model_json)"
   ]
  },
  {
   "cell_type": "markdown",
   "metadata": {},
   "source": [
    "### CNN with LSTM model"
   ]
  },
  {
   "cell_type": "code",
   "execution_count": 38,
   "metadata": {},
   "outputs": [],
   "source": [
    "sequence_size = X_train.shape[1]\n",
    "n_features = 1 \n",
    "n_subsequences = 4\n",
    "subsequence_size = int(sequence_size / n_subsequences)\n",
    "\n",
    "# Reshaping to be (samples, subsequences, sequence, feature)\n",
    "X_train = X_train.reshape(-1, n_subsequences, subsequence_size, n_features)\n",
    "X_val = X_val.reshape(-1, n_subsequences, subsequence_size, n_features)"
   ]
  },
  {
   "cell_type": "code",
   "execution_count": 57,
   "metadata": {},
   "outputs": [
    {
     "data": {
      "text/plain": [
       "540"
      ]
     },
     "execution_count": 57,
     "metadata": {},
     "output_type": "execute_result"
    }
   ],
   "source": [
    "subsequence_size"
   ]
  },
  {
   "cell_type": "code",
   "execution_count": 55,
   "metadata": {
    "scrolled": false
   },
   "outputs": [
    {
     "data": {
      "text/plain": [
       "(26259, 4, 540, 1)"
      ]
     },
     "execution_count": 55,
     "metadata": {},
     "output_type": "execute_result"
    }
   ],
   "source": [
    "X_val.shape"
   ]
  },
  {
   "cell_type": "markdown",
   "metadata": {},
   "source": [
    "(26259, 2160, 1)"
   ]
  },
  {
   "cell_type": "code",
   "execution_count": 46,
   "metadata": {},
   "outputs": [
    {
     "name": "stdout",
     "output_type": "stream",
     "text": [
      "Model: \"sequential_3\"\n",
      "_________________________________________________________________\n",
      " Layer (type)                Output Shape              Param #   \n",
      "=================================================================\n",
      " time_distributed_2 (TimeDis  (None, 4, 540, 8)        40        \n",
      " tributed)                                                       \n",
      "                                                                 \n",
      " time_distributed_3 (TimeDis  (None, 4, 4320)          0         \n",
      " tributed)                                                       \n",
      "                                                                 \n",
      " lstm_1 (LSTM)               (None, 4)                 69200     \n",
      "                                                                 \n",
      " output (Dense)              (None, 1)                 5         \n",
      "                                                                 \n",
      "=================================================================\n",
      "Total params: 69,245\n",
      "Trainable params: 69,245\n",
      "Non-trainable params: 0\n",
      "_________________________________________________________________\n"
     ]
    }
   ],
   "source": [
    "cnn_lstm_model = Sequential([\n",
    "    TimeDistributed(\n",
    "        Conv1D(\n",
    "            filters=8,\n",
    "            kernel_size=4,\n",
    "            strides=1,\n",
    "            padding=\"same\",\n",
    "            activation=\"relu\"\n",
    "        ), \n",
    "        input_shape=(n_subsequences, subsequence_size, n_features)\n",
    "    ),\n",
    "    TimeDistributed(Flatten()),\n",
    "    LSTM(units=4),\n",
    "    Dense(\n",
    "        1,\n",
    "        activation=\"sigmoid\",\n",
    "        name=\"output\",\n",
    "    )\n",
    "])\n",
    "\n",
    "optimizer = Adam(learning_rate=0.001)\n",
    "# Compiling the model\n",
    "cnn_lstm_model.compile(\n",
    "    optimizer=optimizer,\n",
    "    loss=\"binary_crossentropy\",\n",
    "    metrics=[\"accuracy\"]\n",
    ")\n",
    "cnn_lstm_model.summary()"
   ]
  },
  {
   "cell_type": "code",
   "execution_count": 40,
   "metadata": {
    "scrolled": false
   },
   "outputs": [
    {
     "name": "stdout",
     "output_type": "stream",
     "text": [
      "Epoch 1/15\n",
      "648/648 [==============================] - 45s 67ms/step - loss: 0.3969 - accuracy: 0.8283 - val_loss: 0.5815 - val_accuracy: 0.7556\n",
      "Epoch 2/15\n",
      "648/648 [==============================] - 25s 38ms/step - loss: 0.2681 - accuracy: 0.9227 - val_loss: 0.5962 - val_accuracy: 0.7464\n",
      "Epoch 3/15\n",
      "648/648 [==============================] - 24s 38ms/step - loss: 0.2069 - accuracy: 0.9386 - val_loss: 0.5800 - val_accuracy: 0.7908\n",
      "Epoch 4/15\n",
      "648/648 [==============================] - 24s 37ms/step - loss: 0.1518 - accuracy: 0.9545 - val_loss: 0.6150 - val_accuracy: 0.8035\n",
      "Epoch 5/15\n",
      "648/648 [==============================] - 25s 38ms/step - loss: 0.1197 - accuracy: 0.9635 - val_loss: 0.6210 - val_accuracy: 0.8079\n",
      "Epoch 6/15\n",
      "648/648 [==============================] - 24s 37ms/step - loss: 0.1013 - accuracy: 0.9691 - val_loss: 0.5995 - val_accuracy: 0.7984\n",
      "Epoch 7/15\n",
      "648/648 [==============================] - 24s 37ms/step - loss: 0.0886 - accuracy: 0.9717 - val_loss: 0.6901 - val_accuracy: 0.7872\n",
      "Epoch 8/15\n",
      "648/648 [==============================] - 24s 37ms/step - loss: 0.0800 - accuracy: 0.9744 - val_loss: 0.6619 - val_accuracy: 0.7985\n",
      "Epoch 9/15\n",
      "648/648 [==============================] - 24s 37ms/step - loss: 0.0717 - accuracy: 0.9774 - val_loss: 0.6744 - val_accuracy: 0.8012\n",
      "Epoch 10/15\n",
      "648/648 [==============================] - 24s 37ms/step - loss: 0.0675 - accuracy: 0.9786 - val_loss: 0.7220 - val_accuracy: 0.7958\n",
      "Epoch 11/15\n",
      "648/648 [==============================] - 25s 38ms/step - loss: 0.0611 - accuracy: 0.9809 - val_loss: 0.6961 - val_accuracy: 0.7949\n",
      "Epoch 12/15\n",
      "648/648 [==============================] - 25s 38ms/step - loss: 0.0575 - accuracy: 0.9822 - val_loss: 0.7370 - val_accuracy: 0.8179\n",
      "Epoch 13/15\n",
      "648/648 [==============================] - 27s 41ms/step - loss: 0.0528 - accuracy: 0.9839 - val_loss: 0.7282 - val_accuracy: 0.8041\n",
      "Epoch 14/15\n",
      "648/648 [==============================] - 26s 41ms/step - loss: 0.0497 - accuracy: 0.9847 - val_loss: 0.7337 - val_accuracy: 0.7969\n",
      "Epoch 15/15\n",
      "648/648 [==============================] - 26s 40ms/step - loss: 0.0462 - accuracy: 0.9857 - val_loss: 0.8220 - val_accuracy: 0.7734\n"
     ]
    }
   ],
   "source": [
    "train_params = {\n",
    "    \"batch_size\": 128,\n",
    "    \"epochs\": 15,\n",
    "    \"verbose\": 1,\n",
    "    \"validation_data\": (X_val, y_val),\n",
    "}\n",
    "\n",
    "history_cnn_lstm = cnn_lstm_model.fit(X_train, y_train, **train_params)"
   ]
  },
  {
   "cell_type": "code",
   "execution_count": 42,
   "metadata": {
    "scrolled": false
   },
   "outputs": [
    {
     "name": "stdout",
     "output_type": "stream",
     "text": [
      "821/821 [==============================] - 4s 5ms/step - loss: 0.8220 - accuracy: 0.7734\n"
     ]
    },
    {
     "data": {
      "text/plain": [
       "[0.8220300078392029, 0.7734491229057312]"
      ]
     },
     "execution_count": 42,
     "metadata": {},
     "output_type": "execute_result"
    }
   ],
   "source": [
    "cnn_lstm_model.evaluate(X_val, y_val)"
   ]
  },
  {
   "cell_type": "code",
   "execution_count": 49,
   "metadata": {},
   "outputs": [],
   "source": [
    "predictions = cnn_lstm_model.predict(X_val)"
   ]
  },
  {
   "cell_type": "code",
   "execution_count": 52,
   "metadata": {
    "scrolled": true
   },
   "outputs": [
    {
     "data": {
      "text/plain": [
       "array([[0.],\n",
       "       [0.],\n",
       "       [1.],\n",
       "       ...,\n",
       "       [0.],\n",
       "       [0.],\n",
       "       [0.]], dtype=float32)"
      ]
     },
     "execution_count": 52,
     "metadata": {},
     "output_type": "execute_result"
    }
   ],
   "source": [
    "predictions.round()"
   ]
  },
  {
   "cell_type": "code",
   "execution_count": 51,
   "metadata": {
    "scrolled": false
   },
   "outputs": [
    {
     "data": {
      "text/plain": [
       "array([[1],\n",
       "       [1],\n",
       "       [1],\n",
       "       ...,\n",
       "       [0],\n",
       "       [0],\n",
       "       [0]])"
      ]
     },
     "execution_count": 51,
     "metadata": {},
     "output_type": "execute_result"
    }
   ],
   "source": [
    "y_val"
   ]
  },
  {
   "cell_type": "code",
   "execution_count": 53,
   "metadata": {},
   "outputs": [],
   "source": [
    "# Save the model in H5 format\n",
    "cnn_lstm_model.save('modelCnnLstm.h5')"
   ]
  },
  {
   "cell_type": "code",
   "execution_count": null,
   "metadata": {},
   "outputs": [],
   "source": [
    "# Saving the model for Future Inferences\n",
    "\n",
    "model_json = cnn_lstm_model.to_json()\n",
    "with open(\"model.json\", \"w\") as json_file:\n",
    "    json_file.write(model_json)"
   ]
  },
  {
   "cell_type": "code",
   "execution_count": 54,
   "metadata": {},
   "outputs": [
    {
     "name": "stdout",
     "output_type": "stream",
     "text": [
      "Printing JSON serialized NumPy array\n",
      "{\"signal_data\": [[[0.14293640426827192], [0.11962728663070521], [0.09631816899313851], [0.04969993371800509], [0.008908977852263352], [-0.0027455809665199796], [0.00308169844287167], [-0.020227419194695024], [-0.03188197801347839], [-0.055191095651045116], [-0.09598205151678682], [-0.08432749269800346], [-0.09015477210739514], [-0.1018093309261785], [-0.13094572797313683], [-0.15425484561070357], [-0.16590940442948693], [-0.16008212502009525], [-0.1484275662013119], [-0.15425484561070357], [-0.1717366838388786], [-0.16590940442948693], [-0.183391242657662], [-0.183391242657662], [-0.16590940442948693], [-0.1775639632482703], [-0.183391242657662], [-0.20670036029522865], [-0.18921852206705367], [-0.19504580147644535], [-0.1717366838388786], [-0.1717366838388786], [-0.16590940442948693], [-0.183391242657662], [-0.18921852206705367], [-0.20087308088583702], [-0.1717366838388786], [-0.16590940442948693], [-0.1717366838388786], [-0.183391242657662], [-0.21252763970462032], [-0.20670036029522865], [-0.1775639632482703], [-0.183391242657662], [-0.18921852206705367], [-0.183391242657662], [-0.1775639632482703], [-0.16008212502009525], [-0.1484275662013119], [-0.13677300738252854], [-0.13677300738252854], [-0.13094572797313683], [-0.13677300738252854], [-0.11346388974496187], [-0.10763661033557019], [-0.11346388974496187], [-0.11929116915435355], [-0.12511844856374524], [-0.13677300738252854], [-0.13094572797313683], [-0.13677300738252854], [-0.11929116915435355], [-0.12511844856374524], [-0.11929116915435355], [-0.14260028679192022], [-0.11929116915435355], [-0.09598205151678682], [-0.1018093309261785], [-0.11929116915435355], [-0.15425484561070357], [-0.16590940442948693], [-0.1484275662013119], [-0.12511844856374524], [-0.10763661033557019], [-0.11929116915435355], [-0.12511844856374524], [-0.1484275662013119], [-0.1717366838388786], [-0.16008212502009525], [-0.1484275662013119], [-0.14260028679192022], [-0.16590940442948693], [-0.16590940442948693], [-0.1484275662013119], [-0.14260028679192022], [-0.13677300738252854], [-0.13677300738252854], [-0.15425484561070357], [-0.15425484561070357], [-0.14260028679192022], [-0.13094572797313683], [-0.14260028679192022], [-0.13677300738252854], [-0.16008212502009525], [-0.15425484561070357], [-0.13677300738252854], [-0.13677300738252854], [-0.13677300738252854], [-0.15425484561070357], [-0.1484275662013119], [-0.15425484561070357], [-0.14260028679192022], [-0.13094572797313683], [-0.13094572797313683], [-0.13094572797313683], [-0.1484275662013119], [-0.1484275662013119], [-0.11929116915435355], [-0.12511844856374524], [-0.12511844856374524], [-0.13094572797313683], [-0.1484275662013119], [-0.16008212502009525], [-0.14260028679192022], [-0.12511844856374524], [-0.12511844856374524], [-0.13677300738252854], [-0.15425484561070357], [-0.15425484561070357], [-0.14260028679192022], [-0.12511844856374524], [-0.10763661033557019], [-0.10763661033557019], [-0.11929116915435355], [-0.1484275662013119], [-0.11929116915435355], [-0.09015477210739514], [-0.07850021328861177], [-0.07850021328861177], [-0.06101837506043673], [-0.055191095651045116], [-0.014400139785303342], [0.020563536671046715], [0.04969993371800509], [0.08466361017435516], [0.1254545660400969], [0.20703647777158038], [0.3702003012345473], [0.6499097128853477], [1.2093285361869486], [1.902774785904558], [2.368957138655892], [2.4738481680249422], [2.3864389768840675], [2.287375226924409], [2.211620594602317], [2.1591750799177922], [2.0659386093675254], [1.9493930211796917], [1.821192874173075], [1.7396109624415914], [1.6288926536631494], [1.5531380213410577], [1.4424197125626157], [1.314219565555999], [1.1918466979587738], [1.0578192715427652], [0.8888281686704066], [0.7256643452074396], [0.5158822864693392], [0.2944456689124555], [0.06718177194618014], [-0.183391242657662], [-0.4397915366708957], [-0.7369827865498711], [-1.0166921982006716], [-1.2556106539857306], [-1.4770472715426142], [-1.6518656538243643], [-1.8325113155155064], [-1.9956751389784735], [-2.112220727166307], [-2.199629918307182], [-2.2579027124010986], [-2.287039109448057], [-2.362793741770149], [-2.4618574917298077], [-2.560921241689466], [-2.6425031534209493], [-2.6774668298772992], [-2.718257785743041], [-2.7940124180651327], [-2.846457932749658], [-2.863939770977833], [-2.759048741608783], [-2.5201302858237242], [-2.252075432991707], [-1.9898478595690816], [-1.768411242012198], [-1.570283742092881], [-1.424601756858089], [-1.2905743304420805], [-1.1973378598918136], [-1.1099286687509387], [-1.0516558746570217], [-0.9992103599724967], [-0.9700739629255382], [-0.9059738894222298], [-0.8710102129658798], [-0.865182933556488], [-0.8593556541470964], [-0.8535283747377047], [-0.8360465365095296], [-0.7486373453686546], [-0.6728827130465628], [-0.6029553601338626], [-0.5330280072211625], [-0.48640977194602913], [-0.433964257261504], [-0.37569146316758734], [-0.27080043379853713], [-0.20087308088583702], [-0.12511844856374524], [-0.04936381624165343], [0.020563536671046715], [0.07300905135557179], [0.16041824249644696], [0.23034559540914706], [0.2711365512748888], [0.3235820659594139], [0.32940934536880556], [0.32940934536880556], [0.3585457424157639], [0.3702003012345473], [0.393509418872114], [0.393509418872114], [0.41099125710028905], [0.4401276541472474], [0.4867458894223808], [0.5217095658787309], [0.5450186835162976], [0.5683278011538644], [0.5799823599726477], [0.6207733158383894], [0.6615642717041311], [0.6907006687510895], [0.6965279481604812], [0.7023552275698729], [0.737318904026223], [0.7781098598919646], [0.8422099333952732], [0.8830008892610149], [0.9237918451267567], [0.952928242173715], [0.97041008040189], [1.0112010362676318], [1.0694738303615485], [1.1102647862272903], [1.1452284626836402], [1.1743648597305987], [1.2151558155963404], [1.2559467714620822], [1.2967377273278238], [1.331701403784174], [1.366665080240524], [1.3899741978780906], [1.3783196390593073], [1.4016287566968741], [1.4307651537438324], [1.454074271381399], [1.4482469919720076], [1.4482469919720076], [1.4482469919720076], [1.454074271381399], [1.4773833890189658], [1.4773833890189658], [1.4482469919720076], [1.4249378743344407], [1.3958014772874823], [1.3783196390593073], [1.384146918468699], [1.349183242012349], [1.2909104479184321], [1.2792558890996488], [1.238464933233907], [1.2035012567775571], [1.1918466979587738], [1.1452284626836402], [1.1102647862272903], [1.0519919921333736], [0.9937191980394567], [0.952928242173715], [0.9004827274891899], [0.8480372128046648], [0.7955916981201396], [0.719837065798048], [0.6440824334759561], [0.6091187570196059], [0.5625005217444726], [0.5333641246975143], [0.47509133060359743], [0.41099125710028905], [0.34689118359698057], [0.3177547865500222], [0.28279111009367214], [0.2478274336373221], [0.20703647777158038], [0.16624552190583863], [0.11380000722131352], [0.09631816899313851], [0.07883633076496346], [0.05552721312739677], [0.026390816080438396], [0.014736257261655034], [-0.008572860375911661], [-0.03188197801347839], [-0.03188197801347839], [-0.055191095651045116], [-0.0726729338792201], [-0.09015477210739514], [-0.11346388974496187], [-0.1018093309261785], [-0.11346388974496187], [-0.1018093309261785], [-0.11929116915435355], [-0.13094572797313683], [-0.13677300738252854], [-0.13677300738252854], [-0.11929116915435355], [-0.13094572797313683], [-0.1484275662013119], [-0.16590940442948693], [-0.183391242657662], [-0.183391242657662], [-0.16008212502009525], [-0.16008212502009525], [-0.1775639632482703], [-0.18921852206705367], [-0.183391242657662], [-0.1775639632482703], [-0.16590940442948693], [-0.15425484561070357], [-0.16008212502009525], [-0.1775639632482703], [-0.18921852206705367], [-0.19504580147644535], [-0.1775639632482703], [-0.15425484561070357], [-0.16008212502009525], [-0.183391242657662], [-0.19504580147644535], [-0.1775639632482703], [-0.13094572797313683], [-0.1018093309261785], [-0.09015477210739514], [-0.11929116915435355], [-0.13094572797313683], [-0.14260028679192022], [-0.13094572797313683], [-0.11346388974496187], [-0.10763661033557019], [-0.12511844856374524], [-0.13094572797313683], [-0.11346388974496187], [-0.10763661033557019], [-0.10763661033557019], [-0.13094572797313683], [-0.14260028679192022], [-0.14260028679192022], [-0.13677300738252854], [-0.13094572797313683], [-0.12511844856374524], [-0.1484275662013119], [-0.14260028679192022], [-0.1484275662013119], [-0.13677300738252854], [-0.13677300738252854], [-0.13677300738252854], [-0.16590940442948693], [-0.16590940442948693], [-0.1775639632482703], [-0.1717366838388786], [-0.15425484561070357], [-0.13677300738252854], [-0.1484275662013119], [-0.1717366838388786], [-0.16590940442948693], [-0.13094572797313683], [-0.10763661033557019], [-0.08432749269800346], [-0.0726729338792201], [-0.0726729338792201], [-0.06101837506043673], [-0.026054698604086705], [0.026390816080438396], [0.07300905135557179], [0.11962728663070521], [0.13128184544948857], [0.13710912485888024], [0.16041824249644696], [0.18372736013401367], [0.20120919836218867], [0.24200015422793042], [0.2536547130467138], [0.2536547130467138], [0.2478274336373221], [0.23617287481853874], [0.21286375718097203], [0.20120919836218867], [0.177900080724622], [0.15459096308705528], [0.177900080724622], [0.195381918952797], [0.18372736013401367], [0.16624552190583863], [0.14293640426827192], [0.13710912485888024], [0.14293640426827192], [0.13128184544948857], [0.09631816899313851], [0.05552721312739677], [0.020563536671046715], [-0.020227419194695024], [-0.03770925742287007], [-0.04353653683226175], [-0.0726729338792201], [-0.10763661033557019], [-0.13094572797313683], [-0.16008212502009525], [-0.16590940442948693], [-0.1717366838388786], [-0.1775639632482703], [-0.183391242657662], [-0.20670036029522865], [-0.23583675734218706], [-0.22418219852340368], [-0.24749131616097042], [-0.24166403675157874], [-0.24749131616097042], [-0.24166403675157874], [-0.22418219852340368], [-0.19504580147644535], [-0.16008212502009525], [-0.11346388974496187], [-0.026054698604086705], [0.18372736013401367], [0.6615642717041311], [1.3783196390593073], [2.0368022123205667], [2.2990297857431923], [2.182484197555359], [1.9843566976360416], [1.8619838300388165], [1.8095383153542914], [1.780401918307333], [1.6813381683476745], [1.5939289772067995], [1.4773833890189658], [1.3550105214217405], [1.2909104479184321], [1.2035012567775571], [1.1102647862272903], [0.9995464774488484], [0.8538644922140565], [0.719837065798048], [0.6091187570196059], [0.46926405119420583], [0.33523662477819727], [0.16041824249644696], [-0.020227419194695024], [-0.18921852206705367], [-0.33490050730184556], [-0.48640977194602913], [-0.6554008748183878], [-0.8593556541470964], [-1.0749649922945885], [-1.302228889260864], [-1.4653927127238306], [-1.5644564626834891], [-1.6169019773680144], [-1.6635202126431476], [-1.733447565555848], [-1.7742385214215894], [-1.8325113155155064], [-1.9490569037033398], [-2.071429771300565], [-2.205457197716574], [-2.3103482270856235], [-2.397757418226499], [-2.4968211681861576], [-2.555093962280074], [-2.613366756373991], [-2.5784030799176407], [-2.4676847711391994], [-2.2986936682668406], [-2.0947388889381315], [-1.8849568302000315], [-1.6810020508713228], [-1.4828745509520056], [-1.3605016833547805], [-1.2964016098514721], [-1.2206469775293805], [-1.1623741834354635], [-1.1041013893415468], [-1.0574831540664134], [-1.0108649187912802], [-0.9817285217443216], [-0.9467648452879714], [-0.9292830070597966], [-0.9059738894222298], [-0.8768374923752714], [-0.8243919776907462], [-0.760291904187438], [-0.6728827130465628], [-0.597128080724471], [-0.4980643307648125], [-0.44561881608028736], [-0.4106551396239373], [-0.3407277867112372], [-0.24166403675157874], [-0.15425484561070357], [-0.04936381624165343], [0.020563536671046715], [0.09631816899313851], [0.14876368367766357], [0.2186910365903637], [0.2886183895030638], [0.32940934536880556], [0.34689118359698057], [0.3702003012345473], [0.38768213946272234], [0.41681853650968076], [0.44595493355663907], [0.46926405119420583], [0.47509133060359743], [0.4867458894223808], [0.5100550070599476], [0.5275368452881226], [0.5683278011538644], [0.5858096393820393], [0.6032914776102143], [0.626600595247781], [0.6324278746571728], [0.6673915511135228], [0.6965279481604812], [0.719837065798048], [0.7548007422543979], [0.7781098598919646], [0.789764418710748], [0.8363826539858814]], [[0.8713463304422315], [0.917964565717365], [0.9296191245361483], [0.9645828009924983], [0.9820646392206733], [1.022855595086415], [1.0578192715427652], [1.0986102274085068], [1.1219193450460736], [1.151055742093032], [1.1743648597305987], [1.2151558155963404], [1.238464933233907], [1.2617740508714737], [1.2850831685090405], [1.2967377273278238], [1.3258741243747822], [1.3375286831935658], [1.3608378008311324], [1.3783196390593073], [1.366665080240524], [1.3783196390593073], [1.366665080240524], [1.384146918468699], [1.3899741978780906], [1.3783196390593073], [1.3724923596499154], [1.3550105214217405], [1.349183242012349], [1.3433559626029572], [1.331701403784174], [1.2967377273278238], [1.2792558890996488], [1.238464933233907], [1.2093285361869486], [1.186019418549382], [1.168537580321207], [1.1394011832742486], [1.1044375068178984], [1.0636465509521569], [1.0286828744958068], [0.9937191980394567], [0.9645828009924983], [0.917964565717365], [0.8830008892610149], [0.8363826539858814], [0.7606280216637896], [0.7314916246168313], [0.6965279481604812], [0.6557369922947395], [0.6091187570196059], [0.5450186835162976], [0.49840044824116414], [0.46926405119420583], [0.45178221296603077], [0.38768213946272234], [0.34106390418758886], [0.3002729483218472], [0.24200015422793042], [0.22451831599975539], [0.18372736013401367], [0.15459096308705528], [0.11380000722131352], [0.07883633076496346], [0.026390816080438396], [0.026390816080438396], [0.026390816080438396], [0.00308169844287167], [-0.020227419194695024], [-0.03770925742287007], [-0.0726729338792201], [-0.0726729338792201], [-0.06684565446982842], [-0.08432749269800346], [-0.09015477210739514], [-0.09598205151678682], [-0.10763661033557019], [-0.12511844856374524], [-0.13094572797313683], [-0.13677300738252854], [-0.14260028679192022], [-0.14260028679192022], [-0.15425484561070357], [-0.1484275662013119], [-0.13094572797313683], [-0.1484275662013119], [-0.16008212502009525], [-0.16590940442948693], [-0.1775639632482703], [-0.16590940442948693], [-0.15425484561070357], [-0.1717366838388786], [-0.1717366838388786], [-0.16590940442948693], [-0.16590940442948693], [-0.16008212502009525], [-0.14260028679192022], [-0.12511844856374524], [-0.11346388974496187], [-0.1018093309261785], [-0.09015477210739514], [-0.04353653683226175], [0.00308169844287167], [0.06135449253678846], [0.09631816899313851], [0.13128184544948857], [0.14293640426827192], [0.1720728013152303], [0.20120919836218867], [0.21286375718097203], [0.23034559540914706], [0.24200015422793042], [0.2536547130467138], [0.2769638306842805], [0.2769638306842805], [0.24200015422793042], [0.20703647777158038], [0.1720728013152303], [0.15459096308705528], [0.15459096308705528], [0.16041824249644696], [0.177900080724622], [0.18372736013401367], [0.1720728013152303], [0.15459096308705528], [0.18372736013401367], [0.177900080724622], [0.16041824249644696], [0.14293640426827192], [0.11962728663070521], [0.09049088958374683], [0.07883633076496346], [0.038045374899221725], [0.008908977852263352], [-0.014400139785303342], [-0.026054698604086705], [-0.06684565446982842], [-0.08432749269800346], [-0.11346388974496187], [-0.11346388974496187], [-0.1484275662013119], [-0.1775639632482703], [-0.20087308088583702], [-0.218354919114012], [-0.22418219852340368], [-0.25331859557036207], [-0.24166403675157874], [-0.28828227202671214], [-0.28245499261732043], [-0.2766277132079288], [-0.2766277132079288], [-0.28828227202671214], [-0.30576411025488714], [-0.30576411025488714], [-0.3174186690736705], [-0.30576411025488714], [-0.2941095514361038], [-0.29993683084549544], [-0.29993683084549544], [-0.30576411025488714], [-0.3232459484830622], [-0.32907322789245386], [-0.3115913896642788], [-0.3174186690736705], [-0.3232459484830622], [-0.3232459484830622], [-0.32907322789245386], [-0.3232459484830622], [-0.30576411025488714], [-0.3174186690736705], [-0.3174186690736705], [-0.3232459484830622], [-0.32907322789245386], [-0.3232459484830622], [-0.3115913896642788], [-0.3174186690736705], [-0.33490050730184556], [-0.33490050730184556], [-0.35238234553002057], [-0.3465550661206289], [-0.32907322789245386], [-0.3232459484830622], [-0.3174186690736705], [-0.32907322789245386], [-0.33490050730184556], [-0.3465550661206289], [-0.3174186690736705], [-0.3115913896642788], [-0.3115913896642788], [-0.3174186690736705], [-0.33490050730184556], [-0.32907322789245386], [-0.3115913896642788], [-0.30576411025488714], [-0.3115913896642788], [-0.32907322789245386], [-0.3232459484830622], [-0.32907322789245386], [-0.3115913896642788], [-0.28828227202671214], [-0.28245499261732043], [-0.2941095514361038], [-0.2941095514361038], [-0.28245499261732043], [-0.25331859557036207], [-0.24166403675157874], [-0.22418219852340368], [-0.218354919114012], [-0.19504580147644535], [-0.13677300738252854], [-0.008572860375911661], [0.2594819924561054], [0.7548007422543979], [1.4016287566968741], [1.9785294182266502], [2.2057933151929254], [2.124211403461442], [1.9843566976360416], [1.8736383888575998], [1.8037110359448998], [1.7396109624415914], [1.6522017713007162], [1.564792580159841], [1.454074271381399], [1.3608378008311324], [1.2501194920526904], [1.151055742093032], [1.0811283891803318], [0.9937191980394567], [0.8713463304422315], [0.7314916246168313], [0.5799823599726477], [0.4226458159190724], [0.2711365512748888], [0.11962728663070521], [-0.06684565446982842], [-0.28828227202671214], [-0.5330280072211625], [-0.7777737424156129], [-0.9992103599724967], [-1.2206469775293805], [-1.4304290362674807], [-1.640211095005581], [-1.8616477125624649], [-2.0481206536629983], [-2.1530116830320485], [-2.2112844771259654], [-2.2579027124010986], [-2.275384550629274], [-2.3103482270856235], [-2.3511391829513655], [-2.415239256454674], [-2.5026484475955493], [-2.6075394769645994], [-2.6832941092866913], [-2.741566903380608], [-2.7940124180651327], [-2.8348033739308747], [-2.8173215357026997], [-2.7473941827899995], [-2.6250213151927744], [-2.4560302123204156], [-2.327830065313799], [-2.118048006575698], [-1.91409322724699], [-1.710138447918281], [-1.529492786227139], [-1.4012926392205223], [-1.3371925657172137], [-1.2381288157575554], [-1.156546904026072], [-1.063310433475805], [-1.0166921982006716], [-0.9642466835161466], [-0.9118011688316214], [-0.8535283747377047], [-0.8185646982813547], [-0.795255580643788], [-0.7836010218250047], [-0.760291904187438], [-0.7020191100935211], [-0.6029553601338626], [-0.5155461689929876], [-0.45144609548967907], [-0.39317330139576223], [-0.3465550661206289], [-0.2766277132079288], [-0.20087308088583702], [-0.11929116915435355], [-0.04353653683226175], [0.014736257261655034], [0.08466361017435516], [0.16041824249644696], [0.24200015422793042], [0.2944456689124555], [0.376027580643939], [0.4284730953284641], [0.45178221296603077], [0.47509133060359743], [0.5042277276505558], [0.5275368452881226], [0.5450186835162976], [0.5450186835162976], [0.556673242335081], [0.5799823599726477], [0.626600595247781], [0.6557369922947395], [0.6790461099323062], [0.6673915511135228], [0.6848733893416978], [0.6907006687510895], [0.7256643452074396], [0.7606280216637896], [0.7664553010731813], [0.7839371393013563], [0.7839371393013563], [0.807246256938923], [0.8422099333952732], [0.8830008892610149], [0.8946554480797982], [0.9121372863079733], [0.9354464039455399], [0.952928242173715], [0.97041008040189], [1.0053737568582402], [1.0286828744958068], [1.0578192715427652], [1.0927829479991151], [1.1219193450460736], [1.1627103009118154], [1.2035012567775571], [1.2093285361869486], [1.1976739773681653], [1.220983095005732], [1.2617740508714737], [1.2967377273278238], [1.314219565555999], [1.314219565555999], [1.314219565555999], [1.3025650067372156], [1.3258741243747822], [1.3433559626029572], [1.349183242012349], [1.349183242012349], [1.3433559626029572], [1.3550105214217405], [1.366665080240524], [1.384146918468699], [1.3724923596499154], [1.3550105214217405], [1.3258741243747822], [1.308392286146607], [1.2967377273278238], [1.2967377273278238], [1.2676013302808655], [1.2442922126432987], [1.220983095005732], [1.1918466979587738], [1.1801921391399903], [1.151055742093032], [1.133573903864857], [1.0986102274085068], [1.0578192715427652], [1.0286828744958068], [0.9937191980394567], [0.987891918630065], [0.97041008040189], [0.917964565717365], [0.8830008892610149], [0.8480372128046648], [0.8247280951670981], [0.8014189775295314], [0.7955916981201396], [0.7781098598919646], [0.7431461834356147], [0.737318904026223], [0.7314916246168313], [0.7431461834356147], [0.737318904026223], [0.719837065798048], [0.6965279481604812], [0.6499097128853477], [0.6440824334759561], [0.6382551540665644], [0.6324278746571728], [0.6207733158383894], [0.6032914776102143], [0.5450186835162976], [0.49840044824116414], [0.4576094923754225], [0.3993366982815057], [0.36437302182515563], [0.3177547865500222], [0.28279111009367214], [0.2944456689124555], [0.2944456689124555], [0.2886183895030638], [0.2594819924561054], [0.23034559540914706], [0.21286375718097203], [0.18955463954340532], [0.1720728013152303], [0.14876368367766357], [0.13128184544948857], [0.09631816899313851], [0.06135449253678846], [0.026390816080438396], [0.00308169844287167], [-0.020227419194695024], [-0.06684565446982842], [-0.1018093309261785], [-0.1484275662013119], [-0.16008212502009525], [-0.19504580147644535], [-0.21252763970462032], [-0.23583675734218706], [-0.2649731543891455], [-0.2766277132079288], [-0.27080043379853713], [-0.28828227202671214], [-0.29993683084549544], [-0.32907322789245386], [-0.35238234553002057], [-0.36986418375819563], [-0.3640369043488039], [-0.3582096249394123], [-0.3640369043488039], [-0.36986418375819563], [-0.3640369043488039], [-0.381518742576979], [-0.37569146316758734], [-0.36986418375819563], [-0.37569146316758734], [-0.381518742576979], [-0.3873460219863705], [-0.4106551396239373], [-0.39317330139576223], [-0.36986418375819563], [-0.3873460219863705], [-0.37569146316758734], [-0.39900058080515394], [-0.39317330139576223], [-0.39317330139576223], [-0.37569146316758734], [-0.36986418375819563], [-0.37569146316758734], [-0.36986418375819563], [-0.381518742576979], [-0.381518742576979], [-0.3640369043488039], [-0.36986418375819563], [-0.36986418375819563], [-0.3873460219863705], [-0.36986418375819563], [-0.37569146316758734], [-0.3582096249394123], [-0.3873460219863705], [-0.39900058080515394], [-0.42230969844272065], [-0.44561881608028736], [-0.45144609548967907], [-0.433964257261504], [-0.4048278602145456], [-0.4106551396239373], [-0.4106551396239373], [-0.42230969844272065], [-0.4281369778521123], [-0.41648241903332894], [-0.433964257261504], [-0.4281369778521123], [-0.4106551396239373], [-0.4048278602145456], [-0.39900058080515394], [-0.39900058080515394], [-0.41648241903332894], [-0.42230969844272065], [-0.44561881608028736], [-0.4106551396239373], [-0.3873460219863705], [-0.3640369043488039], [-0.37569146316758734], [-0.381518742576979], [-0.39317330139576223], [-0.39900058080515394], [-0.381518742576979], [-0.39317330139576223], [-0.4106551396239373], [-0.41648241903332894], [-0.41648241903332894], [-0.41648241903332894], [-0.4048278602145456], [-0.39317330139576223], [-0.36986418375819563], [-0.35238234553002057], [-0.3582096249394123], [-0.36986418375819563], [-0.35238234553002057], [-0.32907322789245386], [-0.32907322789245386], [-0.3407277867112372], [-0.3640369043488039], [-0.3873460219863705], [-0.381518742576979], [-0.36986418375819563], [-0.32907322789245386], [-0.3232459484830622], [-0.3232459484830622], [-0.3465550661206289], [-0.32907322789245386], [-0.32907322789245386], [-0.3115913896642788], [-0.30576411025488714], [-0.30576411025488714], [-0.29993683084549544], [-0.29993683084549544], [-0.28828227202671214], [-0.28245499261732043], [-0.2766277132079288], [-0.2766277132079288], [-0.27080043379853713], [-0.27080043379853713], [-0.2591458749797538], [-0.2649731543891455], [-0.25331859557036207], [-0.23583675734218706], [-0.24166403675157874], [-0.22418219852340368], [-0.20087308088583702], [-0.19504580147644535], [-0.1717366838388786], [-0.10763661033557019], [0.020563536671046715], [0.32940934536880556], [0.9004827274891899], [1.6114108154349742], [2.1300386828708335], [2.2582388298774507], [2.1009022858238753], [1.9377384623609082], [1.8561565506294249]], [[1.8037110359448998], [1.727956403622808], [1.6230653742537577], [1.5006925066565324], [1.3958014772874823], [1.3025650067372156], [1.1976739773681653], [1.1044375068178984], [0.97041008040189], [0.8189008157577063], [0.6673915511135228], [0.5217095658787309], [0.34689118359698057], [0.16041824249644696], [-0.03770925742287007], [-0.23583675734218706], [-0.44561881608028736], [-0.6845372718653461], [-0.9234557276504047], [-1.174028742254247], [-1.389638080401739], [-1.5935928597304478], [-1.7625839626028064], [-1.9432296242939482], [-2.0656024918911733], [-2.15883896244144], [-2.2229390359447487], [-2.2579027124010986], [-2.2812118300386652], [-2.327830065313799], [-2.4035846976358908], [-2.5201302858237242], [-2.6075394769645994], [-2.700775947514866], [-2.7473941827899995], [-2.8056669768839164], [-2.85228521215905], [-2.8581124915684417], [-2.770703300427566], [-2.595884918145816], [-2.368621021179541], [-2.141357124213265], [-1.9082659478375983], [-1.6926566096901061], [-1.529492786227139], [-1.4304290362674807], [-1.3430198451266055], [-1.261437933395122], [-1.1623741834354635], [-1.0924468305227635], [-1.0341740364288468], [-0.9700739629255382], [-0.8943193306034465], [-0.8418738159189213], [-0.8243919776907462], [-0.8185646982813547], [-0.8185646982813547], [-0.795255580643788], [-0.7136736689123044], [-0.632091757180821], [-0.5446825660399458], [-0.49223705135542084], [-0.433964257261504], [-0.36986418375819563], [-0.30576411025488714], [-0.23583675734218706], [-0.16590940442948693], [-0.1018093309261785], [-0.008572860375911661], [0.07883633076496346], [0.16041824249644696], [0.2186910365903637], [0.2886183895030638], [0.34106390418758886], [0.376027580643939], [0.41099125710028905], [0.4401276541472474], [0.47509133060359743], [0.4867458894223808], [0.49840044824116414], [0.5042277276505558], [0.5391914041069059], [0.5683278011538644], [0.6032914776102143], [0.6032914776102143], [0.6207733158383894], [0.6324278746571728], [0.6673915511135228], [0.7140097863886562], [0.7489734628450062], [0.7781098598919646], [0.807246256938923], [0.8363826539858814], [0.8713463304422315], [0.9004827274891899], [0.9471009627643232], [0.9995464774488484], [1.0345101539051984], [1.0986102274085068], [1.1627103009118154], [1.2326376538245154], [1.314219565555999], [1.3550105214217405], [1.4132833155156574], [1.4424197125626157], [1.4832106684283577], [1.5298289037034911], [1.5589653007504494], [1.6055835360255828], [1.634719933072541], [1.6638563301194995], [1.6638563301194995], [1.6638563301194995], [1.6638563301194995], [1.6638563301194995], [1.6696836095288912], [1.6696836095288912], [1.6813381683476745], [1.6696836095288912], [1.6929927271664578], [1.6988200065758496], [1.6813381683476745], [1.6522017713007162], [1.640547212481933], [1.640547212481933], [1.6230653742537577], [1.582274418388016], [1.5298289037034911], [1.4890379478377491], [1.4424197125626157], [1.4074560361062656], [1.3724923596499154], [1.314219565555999], [1.2617740508714737], [1.1976739773681653], [1.1394011832742486], [1.0869556685897235], [1.046164712723982], [1.0112010362676318], [0.9354464039455399], [0.8888281686704066], [0.8247280951670981], [0.7722825804825729], [0.7140097863886562], [0.6499097128853477], [0.5916369187914311], [0.5333641246975143], [0.48091861001298913], [0.43430037473785577], [0.393509418872114], [0.3235820659594139], [0.26530927186549713], [0.18955463954340532], [0.14293640426827192], [0.10797272781192184], [0.08466361017435516], [0.04387265430861341], [-0.014400139785303342], [-0.055191095651045116], [-0.1018093309261785], [-0.13094572797313683], [-0.16008212502009525], [-0.19504580147644535], [-0.23583675734218706], [-0.2591458749797538], [-0.28245499261732043], [-0.28828227202671214], [-0.29993683084549544], [-0.3174186690736705], [-0.35238234553002057], [-0.3640369043488039], [-0.3873460219863705], [-0.39317330139576223], [-0.39317330139576223], [-0.4048278602145456], [-0.42230969844272065], [-0.45144609548967907], [-0.4747552131272458], [-0.4631006543084624], [-0.4689279337178541], [-0.4631006543084624], [-0.4747552131272458], [-0.5038916101742041], [-0.49223705135542084], [-0.4980643307648125], [-0.48640977194602913], [-0.4980643307648125], [-0.5038916101742041], [-0.5213734484023792], [-0.5330280072211625], [-0.5155461689929876], [-0.5155461689929876], [-0.5155461689929876], [-0.5330280072211625], [-0.5330280072211625], [-0.5330280072211625], [-0.5155461689929876], [-0.5213734484023792], [-0.5330280072211625], [-0.5330280072211625], [-0.5505098454493375], [-0.5330280072211625], [-0.5155461689929876], [-0.5038916101742041], [-0.5038916101742041], [-0.4980643307648125], [-0.5155461689929876], [-0.5155461689929876], [-0.5097188895835959], [-0.4980643307648125], [-0.48058249253663743], [-0.4980643307648125], [-0.5097188895835959], [-0.5097188895835959], [-0.49223705135542084], [-0.48058249253663743], [-0.4747552131272458], [-0.4747552131272458], [-0.48058249253663743], [-0.48058249253663743], [-0.4747552131272458], [-0.45144609548967907], [-0.45144609548967907], [-0.4572733748990707], [-0.4397915366708957], [-0.4572733748990707], [-0.433964257261504], [-0.433964257261504], [-0.4397915366708957], [-0.4397915366708957], [-0.44561881608028736], [-0.44561881608028736], [-0.433964257261504], [-0.42230969844272065], [-0.4281369778521123], [-0.42230969844272065], [-0.4281369778521123], [-0.433964257261504], [-0.4106551396239373], [-0.39317330139576223], [-0.39317330139576223], [-0.4106551396239373], [-0.4281369778521123], [-0.4397915366708957], [-0.433964257261504], [-0.42230969844272065], [-0.42230969844272065], [-0.433964257261504], [-0.4281369778521123], [-0.4397915366708957], [-0.41648241903332894], [-0.4106551396239373], [-0.4048278602145456], [-0.4106551396239373], [-0.42230969844272065], [-0.4281369778521123], [-0.42230969844272065], [-0.4106551396239373], [-0.4106551396239373], [-0.41648241903332894], [-0.41648241903332894], [-0.4048278602145456], [-0.39900058080515394], [-0.3873460219863705], [-0.3873460219863705], [-0.4048278602145456], [-0.4048278602145456], [-0.4048278602145456], [-0.39317330139576223], [-0.3873460219863705], [-0.381518742576979], [-0.39900058080515394], [-0.4106551396239373], [-0.41648241903332894], [-0.37569146316758734], [-0.37569146316758734], [-0.3873460219863705], [-0.381518742576979], [-0.37569146316758734], [-0.36986418375819563], [-0.35238234553002057], [-0.3465550661206289], [-0.3582096249394123], [-0.36986418375819563], [-0.3640369043488039], [-0.3873460219863705], [-0.37569146316758734], [-0.3582096249394123], [-0.3582096249394123], [-0.3582096249394123], [-0.3465550661206289], [-0.35238234553002057], [-0.35238234553002057], [-0.33490050730184556], [-0.3232459484830622], [-0.3232459484830622], [-0.32907322789245386], [-0.33490050730184556], [-0.2941095514361038], [-0.2766277132079288], [-0.27080043379853713], [-0.24749131616097042], [-0.24749131616097042], [-0.218354919114012], [-0.13677300738252854], [0.04969993371800509], [0.45178221296603077], [1.1044375068178984], [1.7862291977167248], [2.1300386828708335], [2.0775931681863087], [1.8678111094482084], [1.7396109624415914], [1.6522017713007162], [1.582274418388016], [1.4657288302001825], [1.349183242012349], [1.2151558155963404], [1.0927829479991151], [0.9645828009924983], [0.8247280951670981], [0.6790461099323062], [0.556673242335081], [0.393509418872114], [0.18955463954340532], [-0.03188197801347839], [-0.25331859557036207], [-0.4747552131272458], [-0.7020191100935211], [-0.9292830070597966], [-1.2206469775293805], [-1.4887018303613975], [-1.7276202861464562], [-1.9374023448845565], [-2.1355298448038735], [-2.287039109448057], [-2.4035846976358908], [-2.5201302858237242], [-2.595884918145816], [-2.6250213151927744], [-2.6541577122397326], [-2.689121388696083], [-2.776530579836958], [-2.863939770977833], [-2.9455216827093165], [-3.0154490356220167], [-3.0795491091253253], [-3.120340064991067], [-3.1611310208568084], [-3.1553037414474168], [-3.0445854326689754], [-2.8348033739308747], [-2.572575800508249], [-2.292866388857449], [-2.0306388154348234], [-1.7917203596497646], [-1.622729256777406], [-1.5178382274083557], [-1.389638080401739], [-1.2789197716232972], [-1.1507196246166802], [-1.0166921982006716], [-0.9118011688316214], [-0.8069101394625714], [-0.7136736689123044], [-0.6379190365902128], [-0.5796462424962959], [-0.5155461689929876], [-0.4631006543084624], [-0.36986418375819563], [-0.24749131616097042], [-0.14260028679192022], [-0.09598205151678682], [-0.0726729338792201], [-0.03188197801347839], [0.014736257261655034], [0.09631816899313851], [0.177900080724622], [0.26530927186549713], [0.3527184630063723], [0.393509418872114], [0.4576094923754225], [0.5275368452881226], [0.5858096393820393], [0.6091187570196059], [0.6324278746571728], [0.6091187570196059], [0.5916369187914311], [0.5974641982008227], [0.5858096393820393], [0.5799823599726477], [0.5683278011538644], [0.5508459629256893], [0.556673242335081], [0.5683278011538644], [0.5858096393820393], [0.5858096393820393], [0.5916369187914311], [0.5683278011538644], [0.5858096393820393], [0.626600595247781], [0.6440824334759561], [0.6499097128853477], [0.6440824334759561], [0.6673915511135228], [0.6848733893416978], [0.7256643452074396], [0.7548007422543979], [0.7955916981201396], [0.8305553745764898], [0.8538644922140565], [0.8713463304422315], [0.9121372863079733], [0.9587555215831066], [0.987891918630065], [1.0170283156770235], [1.046164712723982], [1.0694738303615485], [1.1044375068178984], [1.1394011832742486], [1.1568830215024237], [1.168537580321207], [1.1743648597305987], [1.186019418549382], [1.2093285361869486], [1.2326376538245154], [1.238464933233907], [1.220983095005732], [1.2151558155963404], [1.2151558155963404], [1.2268103744151235], [1.2326376538245154], [1.2035012567775571], [1.1743648597305987], [1.151055742093032], [1.1277466244554653], [1.0869556685897235], [1.0578192715427652], [1.0345101539051984], [0.987891918630065], [0.9645828009924983], [0.9004827274891899], [0.8830008892610149], [0.8247280951670981], [0.7722825804825729], [0.7081825069792645], [0.6615642717041311], [0.5974641982008227], [0.5508459629256893], [0.5042277276505558], [0.45178221296603077], [0.38768213946272234], [0.3235820659594139], [0.2711365512748888], [0.23034559540914706], [0.195381918952797], [0.1254545660400969], [0.06718177194618014], [-0.0027455809665199796], [-0.04936381624165343], [-0.08432749269800346], [-0.11929116915435355], [-0.16590940442948693], [-0.21252763970462032], [-0.27080043379853713], [-0.29993683084549544], [-0.29993683084549544], [-0.3115913896642788], [-0.3582096249394123], [-0.39317330139576223], [-0.42230969844272065], [-0.44561881608028736], [-0.45144609548967907], [-0.45144609548967907], [-0.4631006543084624], [-0.4747552131272458], [-0.49223705135542084], [-0.5038916101742041], [-0.5038916101742041], [-0.5038916101742041], [-0.5213734484023792], [-0.5330280072211625], [-0.5505098454493375], [-0.5563371248587292], [-0.5330280072211625], [-0.5330280072211625], [-0.5388552866305542], [-0.5388552866305542], [-0.5563371248587292], [-0.5505098454493375], [-0.5505098454493375], [-0.5213734484023792], [-0.5563371248587292], [-0.5738189630869043], [-0.5679916836775125], [-0.5796462424962959], [-0.5563371248587292], [-0.5563371248587292], [-0.5505098454493375], [-0.5505098454493375], [-0.5388552866305542], [-0.5505098454493375], [-0.527200727811771], [-0.5155461689929876], [-0.5213734484023792], [-0.5330280072211625], [-0.5446825660399458], [-0.5388552866305542], [-0.5213734484023792], [-0.5097188895835959], [-0.5213734484023792], [-0.5155461689929876], [-0.5097188895835959], [-0.5155461689929876], [-0.4980643307648125], [-0.48058249253663743], [-0.48640977194602913], [-0.49223705135542084], [-0.5038916101742041], [-0.49223705135542084], [-0.4747552131272458], [-0.44561881608028736], [-0.4631006543084624], [-0.4747552131272458], [-0.49223705135542084], [-0.48640977194602913], [-0.48058249253663743], [-0.45144609548967907], [-0.45144609548967907], [-0.4397915366708957], [-0.4631006543084624], [-0.48058249253663743], [-0.4689279337178541], [-0.4631006543084624], [-0.4572733748990707], [-0.4631006543084624], [-0.4747552131272458], [-0.4747552131272458], [-0.4572733748990707], [-0.4572733748990707]], [[-0.4689279337178541], [-0.4689279337178541], [-0.4747552131272458], [-0.48058249253663743], [-0.4689279337178541], [-0.4572733748990707], [-0.4689279337178541], [-0.4631006543084624], [-0.4631006543084624], [-0.4689279337178541], [-0.4572733748990707], [-0.4689279337178541], [-0.4689279337178541], [-0.48058249253663743], [-0.48640977194602913], [-0.4747552131272458], [-0.4572733748990707], [-0.4397915366708957], [-0.4397915366708957], [-0.44561881608028736], [-0.4572733748990707], [-0.4631006543084624], [-0.4631006543084624], [-0.4572733748990707], [-0.433964257261504], [-0.4397915366708957], [-0.44561881608028736], [-0.4631006543084624], [-0.433964257261504], [-0.4281369778521123], [-0.4281369778521123], [-0.4397915366708957], [-0.45144609548967907], [-0.4631006543084624], [-0.44561881608028736], [-0.4048278602145456], [-0.41648241903332894], [-0.4281369778521123], [-0.4397915366708957], [-0.4397915366708957], [-0.4281369778521123], [-0.433964257261504], [-0.42230969844272065], [-0.433964257261504], [-0.4281369778521123], [-0.433964257261504], [-0.39900058080515394], [-0.39900058080515394], [-0.4106551396239373], [-0.4106551396239373], [-0.4106551396239373], [-0.4048278602145456], [-0.3873460219863705], [-0.37569146316758734], [-0.381518742576979], [-0.39317330139576223], [-0.39900058080515394], [-0.39900058080515394], [-0.381518742576979], [-0.3582096249394123], [-0.3407277867112372], [-0.3174186690736705], [-0.2941095514361038], [-0.2766277132079288], [-0.22418219852340368], [-0.09598205151678682], [0.18372736013401367], [0.7489734628450062], [1.4657288302001825], [1.9552203005890834], [1.9727021388172583], [1.762920080079158], [1.5706198595692327], [1.5240016242940992], [1.4773833890189658], [1.436592433153224], [1.3550105214217405], [1.2559467714620822], [1.1394011832742486], [1.0170283156770235], [0.9004827274891899], [0.789764418710748], [0.7081825069792645], [0.6032914776102143], [0.4284730953284641], [0.22451831599975539], [0.00308169844287167], [-0.25331859557036207], [-0.49223705135542084], [-0.7311555071404795], [-1.0166921982006716], [-1.3255380068984306], [-1.5994201391398393], [-1.838338594924898], [-2.036466094844215], [-2.2112844771259654], [-2.356966462360757], [-2.432721094682849], [-2.5143030064143326], [-2.572575800508249], [-2.584230359327033], [-2.6425031534209493], [-2.770703300427566], [-2.8872488886154], [-2.980485359165667], [-3.067894550306542], [-3.120340064991067], [-3.1611310208568084], [-3.178612859084984], [-3.1669583002662005], [-3.0737218297159337], [-2.8697670503872246], [-2.6308485946021665], [-2.415239256454674], [-2.2171117565353566], [-2.036466094844215], [-1.8849568302000315], [-1.750929403784023], [-1.622729256777406], [-1.4945291097707891], [-1.389638080401739], [-1.3080561686702554], [-1.2323015363481638], [-1.1507196246166802], [-1.1041013893415468], [-1.063310433475805], [-1.0516558746570217], [-1.028346757019455], [-0.993383080563105], [-0.9525921246973633], [-0.8418738159189213], [-0.7661191835968296], [-0.6728827130465628], [-0.6087826395432543], [-0.5446825660399458], [-0.4747552131272458], [-0.3582096249394123], [-0.25331859557036207], [-0.1717366838388786], [-0.11929116915435355], [-0.055191095651045116], [0.00308169844287167], [0.07300905135557179], [0.16624552190583863], [0.2186910365903637], [0.2478274336373221], [0.2594819924561054], [0.28279111009367214], [0.30610022773123885], [0.34689118359698057], [0.3585457424157639], [0.38185486005333064], [0.3993366982815057], [0.41681853650968076], [0.4576094923754225], [0.47509133060359743], [0.49840044824116414], [0.5100550070599476], [0.5333641246975143], [0.5508459629256893], [0.5799823599726477], [0.6091187570196059], [0.6499097128853477], [0.6848733893416978], [0.7256643452074396], [0.7548007422543979], [0.8130735363483147], [0.8247280951670981], [0.8655190510328399], [0.8946554480797982], [0.9354464039455399], [0.97041008040189], [1.022855595086415], [1.0811283891803318], [1.1102647862272903], [1.1452284626836402], [1.168537580321207], [1.2035012567775571], [1.2792558890996488], [1.314219565555999], [1.3375286831935658], [1.366665080240524], [1.366665080240524], [1.3958014772874823], [1.4249378743344407], [1.4482469919720076], [1.4599015507907909], [1.4599015507907909], [1.4482469919720076], [1.454074271381399], [1.4657288302001825], [1.4773833890189658], [1.4599015507907909], [1.436592433153224], [1.4074560361062656], [1.3724923596499154], [1.3375286831935658], [1.308392286146607], [1.2676013302808655], [1.238464933233907], [1.186019418549382], [1.1452284626836402], [1.116092065636682], [1.0636465509521569], [1.0112010362676318], [0.9587555215831066], [0.9063100068985817], [0.8363826539858814], [0.8014189775295314], [0.7606280216637896], [0.7081825069792645], [0.6440824334759561], [0.5858096393820393], [0.5158822864693392], [0.46926405119420583], [0.4401276541472474], [0.376027580643939], [0.3235820659594139], [0.26530927186549713], [0.21286375718097203], [0.177900080724622], [0.13710912485888024], [0.07883633076496346], [0.014736257261655034], [-0.04936381624165343], [-0.07850021328861177], [-0.1018093309261785], [-0.12511844856374524], [-0.13677300738252854], [-0.16008212502009525], [-0.1775639632482703], [-0.218354919114012], [-0.24166403675157874], [-0.22418219852340368], [-0.218354919114012], [-0.20087308088583702], [-0.21252763970462032], [-0.24749131616097042], [-0.27080043379853713], [-0.2591458749797538], [-0.27080043379853713], [-0.2941095514361038], [-0.30576411025488714], [-0.3174186690736705], [-0.30576411025488714], [-0.29993683084549544], [-0.3407277867112372], [-0.3465550661206289], [-0.3640369043488039], [-0.3640369043488039], [-0.32907322789245386], [-0.2941095514361038], [-0.29993683084549544], [-0.3115913896642788], [-0.3174186690736705], [-0.3232459484830622], [-0.3115913896642788], [-0.3174186690736705], [-0.3582096249394123], [-0.36986418375819563], [-0.33490050730184556], [-0.30576411025488714], [-0.30576411025488714], [-0.3232459484830622], [-0.3174186690736705], [-0.2941095514361038], [-0.29993683084549544], [-0.30576411025488714], [-0.29993683084549544], [-0.28828227202671214], [-0.28828227202671214], [-0.30576411025488714], [-0.3174186690736705], [-0.3174186690736705], [-0.29993683084549544], [-0.28828227202671214], [-0.2941095514361038], [-0.28828227202671214], [-0.29993683084549544], [-0.28245499261732043], [-0.27080043379853713], [-0.2591458749797538], [-0.2591458749797538], [-0.27080043379853713], [-0.29993683084549544], [-0.29993683084549544], [-0.30576411025488714], [-0.25331859557036207], [-0.24749131616097042], [-0.24166403675157874], [-0.2591458749797538], [-0.2766277132079288], [-0.2766277132079288], [-0.2941095514361038], [-0.28828227202671214], [-0.29993683084549544], [-0.30576411025488714], [-0.2941095514361038], [-0.28245499261732043], [-0.2766277132079288], [-0.2941095514361038], [-0.30576411025488714], [-0.3115913896642788], [-0.3174186690736705], [-0.29993683084549544], [-0.2941095514361038], [-0.29993683084549544], [-0.30576411025488714], [-0.30576411025488714], [-0.30576411025488714], [-0.29993683084549544], [-0.2941095514361038], [-0.30576411025488714], [-0.3174186690736705], [-0.33490050730184556], [-0.3232459484830622], [-0.3115913896642788], [-0.28245499261732043], [-0.2941095514361038], [-0.2591458749797538], [-0.2649731543891455], [-0.23583675734218706], [-0.20670036029522865], [-0.18921852206705367], [-0.16008212502009525], [-0.09598205151678682], [-0.04353653683226175], [-0.014400139785303342], [0.03221809548983008], [0.05552721312739677], [0.04969993371800509], [0.04387265430861341], [0.05552721312739677], [0.07300905135557179], [0.11962728663070521], [0.177900080724622], [0.16624552190583863], [0.14293640426827192], [0.11380000722131352], [0.08466361017435516], [0.07883633076496346], [0.07300905135557179], [0.06718177194618014], [0.06135449253678846], [0.04387265430861341], [0.04969993371800509], [0.04387265430861341], [0.020563536671046715], [0.00308169844287167], [0.00308169844287167], [-0.026054698604086705], [-0.055191095651045116], [-0.0726729338792201], [-0.09015477210739514], [-0.11346388974496187], [-0.15425484561070357], [-0.18921852206705367], [-0.21252763970462032], [-0.22418219852340368], [-0.22418219852340368], [-0.23583675734218706], [-0.23000947793279536], [-0.23000947793279536], [-0.19504580147644535], [-0.04936381624165343], [0.2944456689124555], [0.9004827274891899], [1.640547212481933], [2.0717658887769166], [1.9727021388172583], [1.6813381683476745], [1.4890379478377491], [1.4132833155156574], [1.3258741243747822], [1.2035012567775571], [1.0811283891803318], [0.9587555215831066], [0.8363826539858814], [0.6790461099323062], [0.5450186835162976], [0.41681853650968076], [0.2886183895030638], [0.1254545660400969], [-0.055191095651045116], [-0.2591458749797538], [-0.42230969844272065], [-0.5854735219056876], [-0.7544646247780462], [-0.9118011688316214], [-1.08079227170398], [-1.3080561686702554], [-1.570283742092881], [-1.8208567566967229], [-2.0306388154348234], [-2.2171117565353566], [-2.356966462360757], [-2.409411977045282], [-2.4560302123204156], [-2.4968211681861576], [-2.5201302858237242], [-2.5492666828706825], [-2.6075394769645994], [-2.718257785743041], [-2.8173215357026997], [-2.904730726843575], [-2.9571762415280998], [-3.009621756212625], [-3.0562399914877583], [-3.0795491091253253], [-3.0329308738501917], [-2.916385285662358], [-2.689121388696083], [-2.432721094682849], [-2.1938026388977905], [-1.9665387419315148], [-1.7742385214215894], [-1.640211095005581], [-1.5528019038647058], [-1.447910874495656], [-1.3605016833547805], [-1.3080561686702554], [-1.2556106539857306], [-1.2031651393012053], [-1.174028742254247], [-1.1332377863885053], [-1.0749649922945885], [-1.0108649187912802], [-0.9584194041067549], [-0.8943193306034465], [-0.7894283012343963], [-0.6728827130465628], [-0.6087826395432543], [-0.5796462424962959], [-0.5446825660399458], [-0.42230969844272065], [-0.25331859557036207], [-0.07850021328861177], [0.008908977852263352], [0.03221809548983008], [0.06718177194618014], [0.1254545660400969], [0.20703647777158038], [0.2711365512748888], [0.2944456689124555], [0.32940934536880556], [0.34689118359698057], [0.36437302182515563], [0.38185486005333064], [0.41099125710028905], [0.4634367717848141], [0.5042277276505558], [0.5391914041069059], [0.5683278011538644], [0.6149460364289977], [0.6499097128853477], [0.6907006687510895], [0.7023552275698729], [0.7314916246168313], [0.7489734628450062], [0.7781098598919646], [0.8189008157577063], [0.8713463304422315], [0.9063100068985817], [0.9121372863079733], [0.9587555215831066], [0.987891918630065], [1.022855595086415], [1.0869556685897235], [1.133573903864857], [1.1743648597305987], [1.2151558155963404], [1.2326376538245154], [1.273428609690257], [1.3200468449653906], [1.3433559626029572], [1.366665080240524], [1.384146918468699], [1.4016287566968741], [1.436592433153224], [1.4657288302001825], [1.454074271381399], [1.4715561096095742], [1.4599015507907909], [1.454074271381399], [1.4599015507907909], [1.4715561096095742], [1.454074271381399], [1.4424197125626157], [1.4307651537438324], [1.4074560361062656], [1.3783196390593073], [1.3724923596499154], [1.331701403784174], [1.2909104479184321], [1.2442922126432987], [1.2035012567775571], [1.1801921391399903], [1.1452284626836402], [1.0869556685897235], [1.0403374333145903], [0.97041008040189], [0.9237918451267567], [0.8888281686704066], [0.8480372128046648], [0.789764418710748], [0.7314916246168313], [0.6848733893416978], [0.6149460364289977], [0.574155080563256], [0.5333641246975143], [0.47509133060359743], [0.41099125710028905], [0.34106390418758886], [0.28279111009367214], [0.2478274336373221], [0.20703647777158038], [0.16041824249644696], [0.10797272781192184], [0.05552721312739677], [0.008908977852263352], [-0.026054698604086705], [-0.04353653683226175], [-0.0726729338792201], [-0.10763661033557019], [-0.14260028679192022], [-0.16590940442948693], [-0.1775639632482703], [-0.20087308088583702], [-0.21252763970462032], [-0.24166403675157874], [-0.2649731543891455], [-0.28828227202671214], [-0.2591458749797538], [-0.2649731543891455], [-0.2766277132079288], [-0.28828227202671214], [-0.29993683084549544], [-0.3115913896642788], [-0.30576411025488714], [-0.30576411025488714]]]}\n",
      "Decode JSON serialized NumPy array\n"
     ]
    }
   ],
   "source": [
    "import json\n",
    "from json import JSONEncoder\n",
    "import numpy\n",
    "\n",
    "class NumpyArrayEncoder(JSONEncoder):\n",
    "    def default(self, obj):\n",
    "        if isinstance(obj, numpy.ndarray):\n",
    "            return obj.tolist()\n",
    "        return JSONEncoder.default(self, obj)\n",
    "    \n",
    "numpyArrayOne = X_val[0]\n",
    "\n",
    "# Serialization\n",
    "numpyData = {\"signal_data\": numpyArrayOne}\n",
    "encodedNumpyData = json.dumps(numpyData, cls=NumpyArrayEncoder)  # use dump() to write array into file\n",
    "print(\"Printing JSON serialized NumPy array\\n\\n\")\n",
    "print(encodedNumpyData)\n",
    "\n",
    "# Deserialization\n",
    "print(\"Decode JSON serialized NumPy array\")\n",
    "decodedArrays = json.loads(encodedNumpyData)\n",
    "\n",
    "# finalNumpyArray = numpy.asarray(decodedArrays[\"array\"])\n",
    "# print(\"NumPy Array\")\n",
    "# print(finalNumpyArray)"
   ]
  },
  {
   "cell_type": "code",
   "execution_count": 43,
   "metadata": {},
   "outputs": [
    {
     "data": {
      "image/png": "[encoded data removed]",
      "text/plain": [
       "<Figure size 432x288 with 1 Axes>"
      ]
     },
     "metadata": {
      "needs_background": "light"
     },
     "output_type": "display_data"
    }
   ],
   "source": [
    "# summarize history for accuracy\n",
    "plt.plot(history_cnn_lstm.history['accuracy'])\n",
    "plt.plot(history_cnn_lstm.history['val_accuracy'])\n",
    "plt.title('CNN-LSTM model accuracy')\n",
    "plt.ylabel('accuracy')\n",
    "plt.xlabel('epoch')\n",
    "plt.legend(['train', 'test'], loc='upper left')\n",
    "plt.show()"
   ]
  },
  {
   "cell_type": "code",
   "execution_count": 44,
   "metadata": {},
   "outputs": [
    {
     "data": {
      "image/png": "[encoded data removed]",
      "text/plain": [
       "<Figure size 432x288 with 1 Axes>"
      ]
     },
     "metadata": {
      "needs_background": "light"
     },
     "output_type": "display_data"
    }
   ],
   "source": [
    "# summarize history for loss\n",
    "plt.plot(history_cnn_lstm.history['loss'])\n",
    "plt.plot(history_cnn_lstm.history['val_loss'])\n",
    "plt.title('CNN-LSTM model loss')\n",
    "plt.ylabel('loss')\n",
    "plt.xlabel('epoch')\n",
    "plt.legend(['train', 'test'], loc='upper left')\n",
    "plt.show()"
   ]
  },
  {
   "cell_type": "code",
   "execution_count": null,
   "metadata": {},
   "outputs": [],
   "source": []
  }
 ],
 "metadata": {
  "kernelspec": {
   "display_name": "Python 3",
   "language": "python",
   "name": "python3"
  },
  "language_info": {
   "codemirror_mode": {
    "name": "ipython",
    "version": 3
   },
   "file_extension": ".py",
   "mimetype": "text/x-python",
   "name": "python",
   "nbconvert_exporter": "python",
   "pygments_lexer": "ipython3",
   "version": "3.10.6"
  }
 },
 "nbformat": 4,
 "nbformat_minor": 4
}
